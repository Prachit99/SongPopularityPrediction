{
  "cells": [
    {
      "cell_type": "markdown",
      "source": [
        "Importing important libraries"
      ],
      "metadata": {
        "id": "6kppbinTkWYf"
      }
    },
    {
      "cell_type": "code",
      "execution_count": 1,
      "metadata": {
        "colab": {
          "base_uri": "https://localhost:8080/",
          "height": 565
        },
        "id": "adh__7bZ0u4K",
        "outputId": "a15860b1-2d40-482e-bf80-05039b260358"
      },
      "outputs": [
        {
          "output_type": "execute_result",
          "data": {
            "text/plain": [
              "                  title      artist the genre of the track  year  \\\n",
              "0      Hey, Soul Sister       Train             neo mellow  2010   \n",
              "1  Love The Way You Lie      Eminem        detroit hip hop  2010   \n",
              "2               TiK ToK       Kesha              dance pop  2010   \n",
              "3           Bad Romance   Lady Gaga              dance pop  2010   \n",
              "4  Just the Way You Are  Bruno Mars                    pop  2010   \n",
              "\n",
              "   Beats.Per.Minute -The tempo of the song  \\\n",
              "0                                       97   \n",
              "1                                       87   \n",
              "2                                      120   \n",
              "3                                      119   \n",
              "4                                      109   \n",
              "\n",
              "   Energy- The energy of a song - the higher the value, the more energtic  \\\n",
              "0                                                 89                        \n",
              "1                                                 93                        \n",
              "2                                                 84                        \n",
              "3                                                 92                        \n",
              "4                                                 84                        \n",
              "\n",
              "   Danceability - The higher the value, the easier it is to dance to this song  \\\n",
              "0                                                 67                             \n",
              "1                                                 75                             \n",
              "2                                                 76                             \n",
              "3                                                 70                             \n",
              "4                                                 64                             \n",
              "\n",
              "   Loudness/dB - The higher the value, the louder the song  \\\n",
              "0                                                 -4         \n",
              "1                                                 -5         \n",
              "2                                                 -3         \n",
              "3                                                 -4         \n",
              "4                                                 -5         \n",
              "\n",
              "   Liveness - The higher the value, the more likely the song is a live recording  \\\n",
              "0                                                  8                               \n",
              "1                                                 52                               \n",
              "2                                                 29                               \n",
              "3                                                  8                               \n",
              "4                                                  9                               \n",
              "\n",
              "   Valence - The higher the value, the more positive mood for the song  \\\n",
              "0                                                 80                     \n",
              "1                                                 64                     \n",
              "2                                                 71                     \n",
              "3                                                 71                     \n",
              "4                                                 43                     \n",
              "\n",
              "   Length - The duration of the song  \\\n",
              "0                                217   \n",
              "1                                263   \n",
              "2                                200   \n",
              "3                                295   \n",
              "4                                221   \n",
              "\n",
              "   Acousticness - The higher the value the more acoustic the song is  \\\n",
              "0                                                 19                   \n",
              "1                                                 24                   \n",
              "2                                                 10                   \n",
              "3                                                  0                   \n",
              "4                                                  2                   \n",
              "\n",
              "   Speechiness - The higher the value the more spoken word the song contains  \\\n",
              "0                                                  4                           \n",
              "1                                                 23                           \n",
              "2                                                 14                           \n",
              "3                                                  4                           \n",
              "4                                                  4                           \n",
              "\n",
              "   Popularity- The higher the value the more popular the song is  \n",
              "0                                                 83              \n",
              "1                                                 82              \n",
              "2                                                 80              \n",
              "3                                                 79              \n",
              "4                                                 78              "
            ],
            "text/html": [
              "\n",
              "  <div id=\"df-57b1cf71-02ff-43d8-af16-bef0c0e8791a\">\n",
              "    <div class=\"colab-df-container\">\n",
              "      <div>\n",
              "<style scoped>\n",
              "    .dataframe tbody tr th:only-of-type {\n",
              "        vertical-align: middle;\n",
              "    }\n",
              "\n",
              "    .dataframe tbody tr th {\n",
              "        vertical-align: top;\n",
              "    }\n",
              "\n",
              "    .dataframe thead th {\n",
              "        text-align: right;\n",
              "    }\n",
              "</style>\n",
              "<table border=\"1\" class=\"dataframe\">\n",
              "  <thead>\n",
              "    <tr style=\"text-align: right;\">\n",
              "      <th></th>\n",
              "      <th>title</th>\n",
              "      <th>artist</th>\n",
              "      <th>the genre of the track</th>\n",
              "      <th>year</th>\n",
              "      <th>Beats.Per.Minute -The tempo of the song</th>\n",
              "      <th>Energy- The energy of a song - the higher the value, the more energtic</th>\n",
              "      <th>Danceability - The higher the value, the easier it is to dance to this song</th>\n",
              "      <th>Loudness/dB - The higher the value, the louder the song</th>\n",
              "      <th>Liveness - The higher the value, the more likely the song is a live recording</th>\n",
              "      <th>Valence - The higher the value, the more positive mood for the song</th>\n",
              "      <th>Length - The duration of the song</th>\n",
              "      <th>Acousticness - The higher the value the more acoustic the song is</th>\n",
              "      <th>Speechiness - The higher the value the more spoken word the song contains</th>\n",
              "      <th>Popularity- The higher the value the more popular the song is</th>\n",
              "    </tr>\n",
              "  </thead>\n",
              "  <tbody>\n",
              "    <tr>\n",
              "      <th>0</th>\n",
              "      <td>Hey, Soul Sister</td>\n",
              "      <td>Train</td>\n",
              "      <td>neo mellow</td>\n",
              "      <td>2010</td>\n",
              "      <td>97</td>\n",
              "      <td>89</td>\n",
              "      <td>67</td>\n",
              "      <td>-4</td>\n",
              "      <td>8</td>\n",
              "      <td>80</td>\n",
              "      <td>217</td>\n",
              "      <td>19</td>\n",
              "      <td>4</td>\n",
              "      <td>83</td>\n",
              "    </tr>\n",
              "    <tr>\n",
              "      <th>1</th>\n",
              "      <td>Love The Way You Lie</td>\n",
              "      <td>Eminem</td>\n",
              "      <td>detroit hip hop</td>\n",
              "      <td>2010</td>\n",
              "      <td>87</td>\n",
              "      <td>93</td>\n",
              "      <td>75</td>\n",
              "      <td>-5</td>\n",
              "      <td>52</td>\n",
              "      <td>64</td>\n",
              "      <td>263</td>\n",
              "      <td>24</td>\n",
              "      <td>23</td>\n",
              "      <td>82</td>\n",
              "    </tr>\n",
              "    <tr>\n",
              "      <th>2</th>\n",
              "      <td>TiK ToK</td>\n",
              "      <td>Kesha</td>\n",
              "      <td>dance pop</td>\n",
              "      <td>2010</td>\n",
              "      <td>120</td>\n",
              "      <td>84</td>\n",
              "      <td>76</td>\n",
              "      <td>-3</td>\n",
              "      <td>29</td>\n",
              "      <td>71</td>\n",
              "      <td>200</td>\n",
              "      <td>10</td>\n",
              "      <td>14</td>\n",
              "      <td>80</td>\n",
              "    </tr>\n",
              "    <tr>\n",
              "      <th>3</th>\n",
              "      <td>Bad Romance</td>\n",
              "      <td>Lady Gaga</td>\n",
              "      <td>dance pop</td>\n",
              "      <td>2010</td>\n",
              "      <td>119</td>\n",
              "      <td>92</td>\n",
              "      <td>70</td>\n",
              "      <td>-4</td>\n",
              "      <td>8</td>\n",
              "      <td>71</td>\n",
              "      <td>295</td>\n",
              "      <td>0</td>\n",
              "      <td>4</td>\n",
              "      <td>79</td>\n",
              "    </tr>\n",
              "    <tr>\n",
              "      <th>4</th>\n",
              "      <td>Just the Way You Are</td>\n",
              "      <td>Bruno Mars</td>\n",
              "      <td>pop</td>\n",
              "      <td>2010</td>\n",
              "      <td>109</td>\n",
              "      <td>84</td>\n",
              "      <td>64</td>\n",
              "      <td>-5</td>\n",
              "      <td>9</td>\n",
              "      <td>43</td>\n",
              "      <td>221</td>\n",
              "      <td>2</td>\n",
              "      <td>4</td>\n",
              "      <td>78</td>\n",
              "    </tr>\n",
              "  </tbody>\n",
              "</table>\n",
              "</div>\n",
              "      <button class=\"colab-df-convert\" onclick=\"convertToInteractive('df-57b1cf71-02ff-43d8-af16-bef0c0e8791a')\"\n",
              "              title=\"Convert this dataframe to an interactive table.\"\n",
              "              style=\"display:none;\">\n",
              "        \n",
              "  <svg xmlns=\"http://www.w3.org/2000/svg\" height=\"24px\"viewBox=\"0 0 24 24\"\n",
              "       width=\"24px\">\n",
              "    <path d=\"M0 0h24v24H0V0z\" fill=\"none\"/>\n",
              "    <path d=\"M18.56 5.44l.94 2.06.94-2.06 2.06-.94-2.06-.94-.94-2.06-.94 2.06-2.06.94zm-11 1L8.5 8.5l.94-2.06 2.06-.94-2.06-.94L8.5 2.5l-.94 2.06-2.06.94zm10 10l.94 2.06.94-2.06 2.06-.94-2.06-.94-.94-2.06-.94 2.06-2.06.94z\"/><path d=\"M17.41 7.96l-1.37-1.37c-.4-.4-.92-.59-1.43-.59-.52 0-1.04.2-1.43.59L10.3 9.45l-7.72 7.72c-.78.78-.78 2.05 0 2.83L4 21.41c.39.39.9.59 1.41.59.51 0 1.02-.2 1.41-.59l7.78-7.78 2.81-2.81c.8-.78.8-2.07 0-2.86zM5.41 20L4 18.59l7.72-7.72 1.47 1.35L5.41 20z\"/>\n",
              "  </svg>\n",
              "      </button>\n",
              "      \n",
              "  <style>\n",
              "    .colab-df-container {\n",
              "      display:flex;\n",
              "      flex-wrap:wrap;\n",
              "      gap: 12px;\n",
              "    }\n",
              "\n",
              "    .colab-df-convert {\n",
              "      background-color: #E8F0FE;\n",
              "      border: none;\n",
              "      border-radius: 50%;\n",
              "      cursor: pointer;\n",
              "      display: none;\n",
              "      fill: #1967D2;\n",
              "      height: 32px;\n",
              "      padding: 0 0 0 0;\n",
              "      width: 32px;\n",
              "    }\n",
              "\n",
              "    .colab-df-convert:hover {\n",
              "      background-color: #E2EBFA;\n",
              "      box-shadow: 0px 1px 2px rgba(60, 64, 67, 0.3), 0px 1px 3px 1px rgba(60, 64, 67, 0.15);\n",
              "      fill: #174EA6;\n",
              "    }\n",
              "\n",
              "    [theme=dark] .colab-df-convert {\n",
              "      background-color: #3B4455;\n",
              "      fill: #D2E3FC;\n",
              "    }\n",
              "\n",
              "    [theme=dark] .colab-df-convert:hover {\n",
              "      background-color: #434B5C;\n",
              "      box-shadow: 0px 1px 3px 1px rgba(0, 0, 0, 0.15);\n",
              "      filter: drop-shadow(0px 1px 2px rgba(0, 0, 0, 0.3));\n",
              "      fill: #FFFFFF;\n",
              "    }\n",
              "  </style>\n",
              "\n",
              "      <script>\n",
              "        const buttonEl =\n",
              "          document.querySelector('#df-57b1cf71-02ff-43d8-af16-bef0c0e8791a button.colab-df-convert');\n",
              "        buttonEl.style.display =\n",
              "          google.colab.kernel.accessAllowed ? 'block' : 'none';\n",
              "\n",
              "        async function convertToInteractive(key) {\n",
              "          const element = document.querySelector('#df-57b1cf71-02ff-43d8-af16-bef0c0e8791a');\n",
              "          const dataTable =\n",
              "            await google.colab.kernel.invokeFunction('convertToInteractive',\n",
              "                                                     [key], {});\n",
              "          if (!dataTable) return;\n",
              "\n",
              "          const docLinkHtml = 'Like what you see? Visit the ' +\n",
              "            '<a target=\"_blank\" href=https://colab.research.google.com/notebooks/data_table.ipynb>data table notebook</a>'\n",
              "            + ' to learn more about interactive tables.';\n",
              "          element.innerHTML = '';\n",
              "          dataTable['output_type'] = 'display_data';\n",
              "          await google.colab.output.renderOutput(dataTable, element);\n",
              "          const docLink = document.createElement('div');\n",
              "          docLink.innerHTML = docLinkHtml;\n",
              "          element.appendChild(docLink);\n",
              "        }\n",
              "      </script>\n",
              "    </div>\n",
              "  </div>\n",
              "  "
            ]
          },
          "metadata": {},
          "execution_count": 1
        }
      ],
      "source": [
        "import pandas as pd\n",
        "import matplotlib.pyplot as plt\n",
        "import seaborn as sns\n",
        "import numpy as np\n",
        "from wordcloud import WordCloud\n",
        "from sklearn.linear_model import LinearRegression\n",
        "from sklearn.linear_model import LogisticRegression\n",
        "from sklearn.tree import DecisionTreeClassifier\n",
        "from sklearn.svm import SVC\n",
        "from sklearn.ensemble import RandomForestClassifier\n",
        "from sklearn.model_selection import cross_val_score, KFold, LeaveOneOut, train_test_split\n",
        "from sklearn.preprocessing import OneHotEncoder, LabelEncoder, MinMaxScaler, StandardScaler\n",
        "from sklearn.metrics import make_scorer, accuracy_score, precision_score, recall_score, f1_score\n",
        "from sklearn.model_selection import cross_validate\n",
        "from sklearn.metrics import mean_absolute_error,mean_squared_error\n",
        "from sklearn.metrics import classification_report, confusion_matrix\n",
        "from sklearn.metrics import r2_score\n",
        "from sklearn.metrics import accuracy_score\n",
        "from sklearn.model_selection import GridSearchCV\n",
        "df = pd.read_csv(\"spotify.csv\")\n",
        "df.head()"
      ]
    },
    {
      "cell_type": "markdown",
      "metadata": {
        "id": "OtfDegajWH4u"
      },
      "source": [
        "PreProcessing"
      ]
    },
    {
      "cell_type": "code",
      "execution_count": 2,
      "metadata": {
        "colab": {
          "base_uri": "https://localhost:8080/",
          "height": 661
        },
        "id": "r13BcH1AWI4L",
        "outputId": "9b004eaf-16d1-42d4-923b-4e48b9c9dc4c"
      },
      "outputs": [
        {
          "output_type": "execute_result",
          "data": {
            "text/plain": [
              "     title  artist  the genre of the track   year  \\\n",
              "0    False   False                   False  False   \n",
              "1    False   False                   False  False   \n",
              "2    False   False                   False  False   \n",
              "3    False   False                   False  False   \n",
              "4    False   False                   False  False   \n",
              "..     ...     ...                     ...    ...   \n",
              "598  False   False                   False  False   \n",
              "599  False   False                   False  False   \n",
              "600  False   False                   False  False   \n",
              "601  False   False                   False  False   \n",
              "602  False   False                   False  False   \n",
              "\n",
              "     Beats.Per.Minute -The tempo of the song  \\\n",
              "0                                      False   \n",
              "1                                      False   \n",
              "2                                      False   \n",
              "3                                      False   \n",
              "4                                      False   \n",
              "..                                       ...   \n",
              "598                                    False   \n",
              "599                                    False   \n",
              "600                                    False   \n",
              "601                                    False   \n",
              "602                                    False   \n",
              "\n",
              "     Energy- The energy of a song - the higher the value, the more energtic  \\\n",
              "0                                                False                        \n",
              "1                                                False                        \n",
              "2                                                False                        \n",
              "3                                                False                        \n",
              "4                                                False                        \n",
              "..                                                 ...                        \n",
              "598                                              False                        \n",
              "599                                              False                        \n",
              "600                                              False                        \n",
              "601                                              False                        \n",
              "602                                              False                        \n",
              "\n",
              "     Danceability - The higher the value, the easier it is to dance to this song  \\\n",
              "0                                                False                             \n",
              "1                                                False                             \n",
              "2                                                False                             \n",
              "3                                                False                             \n",
              "4                                                False                             \n",
              "..                                                 ...                             \n",
              "598                                              False                             \n",
              "599                                              False                             \n",
              "600                                              False                             \n",
              "601                                              False                             \n",
              "602                                              False                             \n",
              "\n",
              "     Loudness/dB - The higher the value, the louder the song  \\\n",
              "0                                                False         \n",
              "1                                                False         \n",
              "2                                                False         \n",
              "3                                                False         \n",
              "4                                                False         \n",
              "..                                                 ...         \n",
              "598                                              False         \n",
              "599                                              False         \n",
              "600                                              False         \n",
              "601                                              False         \n",
              "602                                              False         \n",
              "\n",
              "     Liveness - The higher the value, the more likely the song is a live recording  \\\n",
              "0                                                False                               \n",
              "1                                                False                               \n",
              "2                                                False                               \n",
              "3                                                False                               \n",
              "4                                                False                               \n",
              "..                                                 ...                               \n",
              "598                                              False                               \n",
              "599                                              False                               \n",
              "600                                              False                               \n",
              "601                                              False                               \n",
              "602                                              False                               \n",
              "\n",
              "     Valence - The higher the value, the more positive mood for the song  \\\n",
              "0                                                False                     \n",
              "1                                                False                     \n",
              "2                                                False                     \n",
              "3                                                False                     \n",
              "4                                                False                     \n",
              "..                                                 ...                     \n",
              "598                                              False                     \n",
              "599                                              False                     \n",
              "600                                              False                     \n",
              "601                                              False                     \n",
              "602                                              False                     \n",
              "\n",
              "     Length - The duration of the song  \\\n",
              "0                                False   \n",
              "1                                False   \n",
              "2                                False   \n",
              "3                                False   \n",
              "4                                False   \n",
              "..                                 ...   \n",
              "598                              False   \n",
              "599                              False   \n",
              "600                              False   \n",
              "601                              False   \n",
              "602                              False   \n",
              "\n",
              "     Acousticness - The higher the value the more acoustic the song is  \\\n",
              "0                                                False                   \n",
              "1                                                False                   \n",
              "2                                                False                   \n",
              "3                                                False                   \n",
              "4                                                False                   \n",
              "..                                                 ...                   \n",
              "598                                              False                   \n",
              "599                                              False                   \n",
              "600                                              False                   \n",
              "601                                              False                   \n",
              "602                                              False                   \n",
              "\n",
              "     Speechiness - The higher the value the more spoken word the song contains  \\\n",
              "0                                                False                           \n",
              "1                                                False                           \n",
              "2                                                False                           \n",
              "3                                                False                           \n",
              "4                                                False                           \n",
              "..                                                 ...                           \n",
              "598                                              False                           \n",
              "599                                              False                           \n",
              "600                                              False                           \n",
              "601                                              False                           \n",
              "602                                              False                           \n",
              "\n",
              "     Popularity- The higher the value the more popular the song is  \n",
              "0                                                False              \n",
              "1                                                False              \n",
              "2                                                False              \n",
              "3                                                False              \n",
              "4                                                False              \n",
              "..                                                 ...              \n",
              "598                                              False              \n",
              "599                                              False              \n",
              "600                                              False              \n",
              "601                                              False              \n",
              "602                                              False              \n",
              "\n",
              "[603 rows x 14 columns]"
            ],
            "text/html": [
              "\n",
              "  <div id=\"df-f8b2c2e9-b51e-43fa-b91c-269244ab6e47\">\n",
              "    <div class=\"colab-df-container\">\n",
              "      <div>\n",
              "<style scoped>\n",
              "    .dataframe tbody tr th:only-of-type {\n",
              "        vertical-align: middle;\n",
              "    }\n",
              "\n",
              "    .dataframe tbody tr th {\n",
              "        vertical-align: top;\n",
              "    }\n",
              "\n",
              "    .dataframe thead th {\n",
              "        text-align: right;\n",
              "    }\n",
              "</style>\n",
              "<table border=\"1\" class=\"dataframe\">\n",
              "  <thead>\n",
              "    <tr style=\"text-align: right;\">\n",
              "      <th></th>\n",
              "      <th>title</th>\n",
              "      <th>artist</th>\n",
              "      <th>the genre of the track</th>\n",
              "      <th>year</th>\n",
              "      <th>Beats.Per.Minute -The tempo of the song</th>\n",
              "      <th>Energy- The energy of a song - the higher the value, the more energtic</th>\n",
              "      <th>Danceability - The higher the value, the easier it is to dance to this song</th>\n",
              "      <th>Loudness/dB - The higher the value, the louder the song</th>\n",
              "      <th>Liveness - The higher the value, the more likely the song is a live recording</th>\n",
              "      <th>Valence - The higher the value, the more positive mood for the song</th>\n",
              "      <th>Length - The duration of the song</th>\n",
              "      <th>Acousticness - The higher the value the more acoustic the song is</th>\n",
              "      <th>Speechiness - The higher the value the more spoken word the song contains</th>\n",
              "      <th>Popularity- The higher the value the more popular the song is</th>\n",
              "    </tr>\n",
              "  </thead>\n",
              "  <tbody>\n",
              "    <tr>\n",
              "      <th>0</th>\n",
              "      <td>False</td>\n",
              "      <td>False</td>\n",
              "      <td>False</td>\n",
              "      <td>False</td>\n",
              "      <td>False</td>\n",
              "      <td>False</td>\n",
              "      <td>False</td>\n",
              "      <td>False</td>\n",
              "      <td>False</td>\n",
              "      <td>False</td>\n",
              "      <td>False</td>\n",
              "      <td>False</td>\n",
              "      <td>False</td>\n",
              "      <td>False</td>\n",
              "    </tr>\n",
              "    <tr>\n",
              "      <th>1</th>\n",
              "      <td>False</td>\n",
              "      <td>False</td>\n",
              "      <td>False</td>\n",
              "      <td>False</td>\n",
              "      <td>False</td>\n",
              "      <td>False</td>\n",
              "      <td>False</td>\n",
              "      <td>False</td>\n",
              "      <td>False</td>\n",
              "      <td>False</td>\n",
              "      <td>False</td>\n",
              "      <td>False</td>\n",
              "      <td>False</td>\n",
              "      <td>False</td>\n",
              "    </tr>\n",
              "    <tr>\n",
              "      <th>2</th>\n",
              "      <td>False</td>\n",
              "      <td>False</td>\n",
              "      <td>False</td>\n",
              "      <td>False</td>\n",
              "      <td>False</td>\n",
              "      <td>False</td>\n",
              "      <td>False</td>\n",
              "      <td>False</td>\n",
              "      <td>False</td>\n",
              "      <td>False</td>\n",
              "      <td>False</td>\n",
              "      <td>False</td>\n",
              "      <td>False</td>\n",
              "      <td>False</td>\n",
              "    </tr>\n",
              "    <tr>\n",
              "      <th>3</th>\n",
              "      <td>False</td>\n",
              "      <td>False</td>\n",
              "      <td>False</td>\n",
              "      <td>False</td>\n",
              "      <td>False</td>\n",
              "      <td>False</td>\n",
              "      <td>False</td>\n",
              "      <td>False</td>\n",
              "      <td>False</td>\n",
              "      <td>False</td>\n",
              "      <td>False</td>\n",
              "      <td>False</td>\n",
              "      <td>False</td>\n",
              "      <td>False</td>\n",
              "    </tr>\n",
              "    <tr>\n",
              "      <th>4</th>\n",
              "      <td>False</td>\n",
              "      <td>False</td>\n",
              "      <td>False</td>\n",
              "      <td>False</td>\n",
              "      <td>False</td>\n",
              "      <td>False</td>\n",
              "      <td>False</td>\n",
              "      <td>False</td>\n",
              "      <td>False</td>\n",
              "      <td>False</td>\n",
              "      <td>False</td>\n",
              "      <td>False</td>\n",
              "      <td>False</td>\n",
              "      <td>False</td>\n",
              "    </tr>\n",
              "    <tr>\n",
              "      <th>...</th>\n",
              "      <td>...</td>\n",
              "      <td>...</td>\n",
              "      <td>...</td>\n",
              "      <td>...</td>\n",
              "      <td>...</td>\n",
              "      <td>...</td>\n",
              "      <td>...</td>\n",
              "      <td>...</td>\n",
              "      <td>...</td>\n",
              "      <td>...</td>\n",
              "      <td>...</td>\n",
              "      <td>...</td>\n",
              "      <td>...</td>\n",
              "      <td>...</td>\n",
              "    </tr>\n",
              "    <tr>\n",
              "      <th>598</th>\n",
              "      <td>False</td>\n",
              "      <td>False</td>\n",
              "      <td>False</td>\n",
              "      <td>False</td>\n",
              "      <td>False</td>\n",
              "      <td>False</td>\n",
              "      <td>False</td>\n",
              "      <td>False</td>\n",
              "      <td>False</td>\n",
              "      <td>False</td>\n",
              "      <td>False</td>\n",
              "      <td>False</td>\n",
              "      <td>False</td>\n",
              "      <td>False</td>\n",
              "    </tr>\n",
              "    <tr>\n",
              "      <th>599</th>\n",
              "      <td>False</td>\n",
              "      <td>False</td>\n",
              "      <td>False</td>\n",
              "      <td>False</td>\n",
              "      <td>False</td>\n",
              "      <td>False</td>\n",
              "      <td>False</td>\n",
              "      <td>False</td>\n",
              "      <td>False</td>\n",
              "      <td>False</td>\n",
              "      <td>False</td>\n",
              "      <td>False</td>\n",
              "      <td>False</td>\n",
              "      <td>False</td>\n",
              "    </tr>\n",
              "    <tr>\n",
              "      <th>600</th>\n",
              "      <td>False</td>\n",
              "      <td>False</td>\n",
              "      <td>False</td>\n",
              "      <td>False</td>\n",
              "      <td>False</td>\n",
              "      <td>False</td>\n",
              "      <td>False</td>\n",
              "      <td>False</td>\n",
              "      <td>False</td>\n",
              "      <td>False</td>\n",
              "      <td>False</td>\n",
              "      <td>False</td>\n",
              "      <td>False</td>\n",
              "      <td>False</td>\n",
              "    </tr>\n",
              "    <tr>\n",
              "      <th>601</th>\n",
              "      <td>False</td>\n",
              "      <td>False</td>\n",
              "      <td>False</td>\n",
              "      <td>False</td>\n",
              "      <td>False</td>\n",
              "      <td>False</td>\n",
              "      <td>False</td>\n",
              "      <td>False</td>\n",
              "      <td>False</td>\n",
              "      <td>False</td>\n",
              "      <td>False</td>\n",
              "      <td>False</td>\n",
              "      <td>False</td>\n",
              "      <td>False</td>\n",
              "    </tr>\n",
              "    <tr>\n",
              "      <th>602</th>\n",
              "      <td>False</td>\n",
              "      <td>False</td>\n",
              "      <td>False</td>\n",
              "      <td>False</td>\n",
              "      <td>False</td>\n",
              "      <td>False</td>\n",
              "      <td>False</td>\n",
              "      <td>False</td>\n",
              "      <td>False</td>\n",
              "      <td>False</td>\n",
              "      <td>False</td>\n",
              "      <td>False</td>\n",
              "      <td>False</td>\n",
              "      <td>False</td>\n",
              "    </tr>\n",
              "  </tbody>\n",
              "</table>\n",
              "<p>603 rows × 14 columns</p>\n",
              "</div>\n",
              "      <button class=\"colab-df-convert\" onclick=\"convertToInteractive('df-f8b2c2e9-b51e-43fa-b91c-269244ab6e47')\"\n",
              "              title=\"Convert this dataframe to an interactive table.\"\n",
              "              style=\"display:none;\">\n",
              "        \n",
              "  <svg xmlns=\"http://www.w3.org/2000/svg\" height=\"24px\"viewBox=\"0 0 24 24\"\n",
              "       width=\"24px\">\n",
              "    <path d=\"M0 0h24v24H0V0z\" fill=\"none\"/>\n",
              "    <path d=\"M18.56 5.44l.94 2.06.94-2.06 2.06-.94-2.06-.94-.94-2.06-.94 2.06-2.06.94zm-11 1L8.5 8.5l.94-2.06 2.06-.94-2.06-.94L8.5 2.5l-.94 2.06-2.06.94zm10 10l.94 2.06.94-2.06 2.06-.94-2.06-.94-.94-2.06-.94 2.06-2.06.94z\"/><path d=\"M17.41 7.96l-1.37-1.37c-.4-.4-.92-.59-1.43-.59-.52 0-1.04.2-1.43.59L10.3 9.45l-7.72 7.72c-.78.78-.78 2.05 0 2.83L4 21.41c.39.39.9.59 1.41.59.51 0 1.02-.2 1.41-.59l7.78-7.78 2.81-2.81c.8-.78.8-2.07 0-2.86zM5.41 20L4 18.59l7.72-7.72 1.47 1.35L5.41 20z\"/>\n",
              "  </svg>\n",
              "      </button>\n",
              "      \n",
              "  <style>\n",
              "    .colab-df-container {\n",
              "      display:flex;\n",
              "      flex-wrap:wrap;\n",
              "      gap: 12px;\n",
              "    }\n",
              "\n",
              "    .colab-df-convert {\n",
              "      background-color: #E8F0FE;\n",
              "      border: none;\n",
              "      border-radius: 50%;\n",
              "      cursor: pointer;\n",
              "      display: none;\n",
              "      fill: #1967D2;\n",
              "      height: 32px;\n",
              "      padding: 0 0 0 0;\n",
              "      width: 32px;\n",
              "    }\n",
              "\n",
              "    .colab-df-convert:hover {\n",
              "      background-color: #E2EBFA;\n",
              "      box-shadow: 0px 1px 2px rgba(60, 64, 67, 0.3), 0px 1px 3px 1px rgba(60, 64, 67, 0.15);\n",
              "      fill: #174EA6;\n",
              "    }\n",
              "\n",
              "    [theme=dark] .colab-df-convert {\n",
              "      background-color: #3B4455;\n",
              "      fill: #D2E3FC;\n",
              "    }\n",
              "\n",
              "    [theme=dark] .colab-df-convert:hover {\n",
              "      background-color: #434B5C;\n",
              "      box-shadow: 0px 1px 3px 1px rgba(0, 0, 0, 0.15);\n",
              "      filter: drop-shadow(0px 1px 2px rgba(0, 0, 0, 0.3));\n",
              "      fill: #FFFFFF;\n",
              "    }\n",
              "  </style>\n",
              "\n",
              "      <script>\n",
              "        const buttonEl =\n",
              "          document.querySelector('#df-f8b2c2e9-b51e-43fa-b91c-269244ab6e47 button.colab-df-convert');\n",
              "        buttonEl.style.display =\n",
              "          google.colab.kernel.accessAllowed ? 'block' : 'none';\n",
              "\n",
              "        async function convertToInteractive(key) {\n",
              "          const element = document.querySelector('#df-f8b2c2e9-b51e-43fa-b91c-269244ab6e47');\n",
              "          const dataTable =\n",
              "            await google.colab.kernel.invokeFunction('convertToInteractive',\n",
              "                                                     [key], {});\n",
              "          if (!dataTable) return;\n",
              "\n",
              "          const docLinkHtml = 'Like what you see? Visit the ' +\n",
              "            '<a target=\"_blank\" href=https://colab.research.google.com/notebooks/data_table.ipynb>data table notebook</a>'\n",
              "            + ' to learn more about interactive tables.';\n",
              "          element.innerHTML = '';\n",
              "          dataTable['output_type'] = 'display_data';\n",
              "          await google.colab.output.renderOutput(dataTable, element);\n",
              "          const docLink = document.createElement('div');\n",
              "          docLink.innerHTML = docLinkHtml;\n",
              "          element.appendChild(docLink);\n",
              "        }\n",
              "      </script>\n",
              "    </div>\n",
              "  </div>\n",
              "  "
            ]
          },
          "metadata": {},
          "execution_count": 2
        }
      ],
      "source": [
        "# checking for null or empty values\n",
        "df.isna()"
      ]
    },
    {
      "cell_type": "code",
      "execution_count": 3,
      "metadata": {
        "colab": {
          "base_uri": "https://localhost:8080/"
        },
        "id": "5b5phb6BWI_W",
        "outputId": "ec635b26-7922-4793-988d-46e843f9ccce"
      },
      "outputs": [
        {
          "output_type": "execute_result",
          "data": {
            "text/plain": [
              "title                                                                            object\n",
              "artist                                                                           object\n",
              "the genre of the track                                                           object\n",
              "year                                                                              int64\n",
              "Beats.Per.Minute -The tempo of the song                                           int64\n",
              "Energy- The energy of a song - the higher the value, the more energtic            int64\n",
              "Danceability - The higher the value, the easier it is to dance to this song       int64\n",
              "Loudness/dB - The higher the value, the louder the song                           int64\n",
              "Liveness - The higher the value, the more likely the song is a live recording     int64\n",
              "Valence - The higher the value, the more positive mood for the song               int64\n",
              "Length - The duration of the song                                                 int64\n",
              "Acousticness - The higher the value the more acoustic the song is                 int64\n",
              "Speechiness - The higher the value the more spoken word the song contains         int64\n",
              "Popularity- The higher the value the more popular the song is                     int64\n",
              "dtype: object"
            ]
          },
          "metadata": {},
          "execution_count": 3
        }
      ],
      "source": [
        "# \n",
        "df.dtypes"
      ]
    },
    {
      "cell_type": "markdown",
      "metadata": {
        "id": "Xz5aVr6KWJFd"
      },
      "source": [
        "Renaming columns"
      ]
    },
    {
      "cell_type": "code",
      "execution_count": 4,
      "metadata": {
        "id": "KXDRB56EWJO2"
      },
      "outputs": [],
      "source": [
        "df.rename(columns = {\n",
        "    'the genre of the track': 'genre',\n",
        "    'Beats.Per.Minute -The tempo of the song': 'BPM',\n",
        "    'Energy- The energy of a song - the higher the value, the more energtic': 'Energy',\n",
        "    'Danceability - The higher the value, the easier it is to dance to this song': 'Danceability',\n",
        "    'Loudness/dB - The higher the value, the louder the song': 'Loudness',\n",
        "    'Liveness - The higher the value, the more likely the song is a live recording': 'Liveness',\n",
        "    'Valence - The higher the value, the more positive mood for the song': 'Valence',\n",
        "    'Length - The duration of the song': 'Length',\n",
        "    'Acousticness - The higher the value the more acoustic the song is': 'Acousticness',\n",
        "    'Speechiness - The higher the value the more spoken word the song contains': 'Speechiness',\n",
        "    'Popularity- The higher the value the more popular the song is': 'Popularity'\n",
        "}, inplace=True)"
      ]
    },
    {
      "cell_type": "code",
      "execution_count": 5,
      "metadata": {
        "colab": {
          "base_uri": "https://localhost:8080/"
        },
        "id": "YFwF6Y9_WJSg",
        "outputId": "20533180-78b9-42bc-c875-1939017202a1"
      },
      "outputs": [
        {
          "output_type": "execute_result",
          "data": {
            "text/plain": [
              "title           object\n",
              "artist          object\n",
              "genre           object\n",
              "year             int64\n",
              "BPM              int64\n",
              "Energy           int64\n",
              "Danceability     int64\n",
              "Loudness         int64\n",
              "Liveness         int64\n",
              "Valence          int64\n",
              "Length           int64\n",
              "Acousticness     int64\n",
              "Speechiness      int64\n",
              "Popularity       int64\n",
              "dtype: object"
            ]
          },
          "metadata": {},
          "execution_count": 5
        }
      ],
      "source": [
        "df.dtypes"
      ]
    },
    {
      "cell_type": "markdown",
      "metadata": {
        "id": "iDbY46lzKjSE"
      },
      "source": [
        "From the above datatypes, it is clear that we have 3 categorical features and rest numeric variables. Let's first try to gain insights about the Categorical features of the dataset\n",
        "### Distribution of 'Genre' "
      ]
    },
    {
      "cell_type": "code",
      "execution_count": 6,
      "metadata": {
        "colab": {
          "base_uri": "https://localhost:8080/"
        },
        "id": "vM2OQWW8WJV4",
        "outputId": "94a74845-25ca-452c-a260-7b680b3dfa85"
      },
      "outputs": [
        {
          "output_type": "execute_result",
          "data": {
            "text/plain": [
              "50"
            ]
          },
          "metadata": {},
          "execution_count": 6
        }
      ],
      "source": [
        "# Total unique values feature 'genre' holds\n",
        "df['genre'].nunique()"
      ]
    },
    {
      "cell_type": "code",
      "execution_count": 7,
      "metadata": {
        "colab": {
          "base_uri": "https://localhost:8080/"
        },
        "id": "LN2jhSz3KMqX",
        "outputId": "340d1687-1cf0-41a1-f4c4-ff94f4ef5db4"
      },
      "outputs": [
        {
          "output_type": "execute_result",
          "data": {
            "text/plain": [
              "dance pop                    327\n",
              "pop                           60\n",
              "canadian pop                  34\n",
              "barbadian pop                 15\n",
              "boy band                      15\n",
              "electropop                    13\n",
              "british soul                  11\n",
              "big room                      10\n",
              "canadian contemporary r&b      9\n",
              "neo mellow                     9\n",
              "art pop                        8\n",
              "complextro                     6\n",
              "hip pop                        6\n",
              "australian dance               6\n",
              "atl hip hop                    5\n",
              "australian pop                 5\n",
              "edm                            5\n",
              "permanent wave                 4\n",
              "latin                          4\n",
              "hip hop                        4\n",
              "colombian pop                  3\n",
              "tropical house                 3\n",
              "brostep                        2\n",
              "downtempo                      2\n",
              "electronic trap                2\n",
              "belgian edm                    2\n",
              "escape room                    2\n",
              "folk-pop                       2\n",
              "electro                        2\n",
              "indie pop                      2\n",
              "detroit hip hop                2\n",
              "candy pop                      2\n",
              "acoustic pop                   2\n",
              "canadian hip hop               2\n",
              "baroque pop                    2\n",
              "celtic rock                    1\n",
              "moroccan pop                   1\n",
              "contemporary country           1\n",
              "chicago rap                    1\n",
              "electro house                  1\n",
              "australian hip hop             1\n",
              "canadian latin                 1\n",
              "house                          1\n",
              "danish pop                     1\n",
              "french indie pop               1\n",
              "alaska indie                   1\n",
              "irish singer-songwriter        1\n",
              "hollywood                      1\n",
              "metropopolis                   1\n",
              "alternative r&b                1\n",
              "Name: genre, dtype: int64"
            ]
          },
          "metadata": {},
          "execution_count": 7
        }
      ],
      "source": [
        "df['genre'].value_counts()"
      ]
    },
    {
      "cell_type": "code",
      "execution_count": 8,
      "metadata": {
        "colab": {
          "base_uri": "https://localhost:8080/",
          "height": 375
        },
        "id": "g6FOnlA1WJZE",
        "outputId": "0efe2411-1f90-40f4-a5d3-0f7a23f62cc9"
      },
      "outputs": [
        {
          "output_type": "execute_result",
          "data": {
            "text/plain": [
              "<matplotlib.axes._subplots.AxesSubplot at 0x7fee276894f0>"
            ]
          },
          "metadata": {},
          "execution_count": 8
        },
        {
          "output_type": "display_data",
          "data": {
            "text/plain": [
              "<Figure size 720x432 with 1 Axes>"
            ],
            "image/png": "[encoded data removed]"
          },
          "metadata": {}
        }
      ],
      "source": [
        "df['genre'].value_counts().head(10).plot.pie(figsize=(10,6), autopct='%1.0f%%')"
      ]
    },
    {
      "cell_type": "code",
      "execution_count": 9,
      "metadata": {
        "colab": {
          "base_uri": "https://localhost:8080/"
        },
        "id": "soSYDwvdLWOt",
        "outputId": "330be186-49b9-47a4-843d-0afb06590564"
      },
      "outputs": [
        {
          "output_type": "execute_result",
          "data": {
            "text/plain": [
              "184"
            ]
          },
          "metadata": {},
          "execution_count": 9
        }
      ],
      "source": [
        "# Total unique values feature 'artist' holds\n",
        "df['artist'].nunique()"
      ]
    },
    {
      "cell_type": "code",
      "execution_count": 10,
      "metadata": {
        "colab": {
          "base_uri": "https://localhost:8080/"
        },
        "id": "MZRy-b2_LWVD",
        "outputId": "b453317a-13fc-4e70-f98a-ddb7e2d0870b"
      },
      "outputs": [
        {
          "output_type": "execute_result",
          "data": {
            "text/plain": [
              "Katy Perry             17\n",
              "Justin Bieber          16\n",
              "Rihanna                15\n",
              "Maroon 5               15\n",
              "Lady Gaga              14\n",
              "                       ..\n",
              "Iggy Azalea             1\n",
              "5 Seconds of Summer     1\n",
              "Michael Jackson         1\n",
              "Disclosure              1\n",
              "Daddy Yankee            1\n",
              "Name: artist, Length: 184, dtype: int64"
            ]
          },
          "metadata": {},
          "execution_count": 10
        }
      ],
      "source": [
        "df['artist'].value_counts()"
      ]
    },
    {
      "cell_type": "code",
      "execution_count": 11,
      "metadata": {
        "colab": {
          "base_uri": "https://localhost:8080/",
          "height": 583
        },
        "id": "-fD4-RjHLjMs",
        "outputId": "154e73d0-aabf-4a09-e64f-7a2e70c31752"
      },
      "outputs": [
        {
          "output_type": "execute_result",
          "data": {
            "text/plain": [
              "<matplotlib.axes._subplots.AxesSubplot at 0x7fee275f4550>"
            ]
          },
          "metadata": {},
          "execution_count": 11
        },
        {
          "output_type": "display_data",
          "data": {
            "text/plain": [
              "<Figure size 864x576 with 1 Axes>"
            ],
            "image/png": "[encoded data removed]"
          },
          "metadata": {
            "needs_background": "light"
          }
        }
      ],
      "source": [
        "df['artist'].value_counts().head(15).plot.bar(figsize=(12,8))"
      ]
    },
    {
      "cell_type": "code",
      "execution_count": 12,
      "metadata": {
        "colab": {
          "base_uri": "https://localhost:8080/",
          "height": 366
        },
        "id": "gqXyGmxbeQpF",
        "outputId": "8aa97ab2-3702-4e25-fb93-7867b9839671"
      },
      "outputs": [
        {
          "output_type": "display_data",
          "data": {
            "text/plain": [
              "<Figure size 720x720 with 1 Axes>"
            ],
            "image/png": "[encoded data removed]"
          },
          "metadata": {
            "needs_background": "light"
          }
        }
      ],
      "source": [
        "wordcloud = WordCloud(width = 1000, height = 600, max_font_size = 200, max_words = 75,\n",
        "                      background_color='white', colormap='tab20c').generate(\" \".join(df['genre']))\n",
        "plt.figure(figsize=(10,10))\n",
        "plt.imshow(wordcloud)\n",
        "plt.axis(\"off\")\n",
        "plt.show()"
      ]
    },
    {
      "cell_type": "code",
      "execution_count": 13,
      "metadata": {
        "colab": {
          "base_uri": "https://localhost:8080/"
        },
        "id": "eVKQojXjDzNN",
        "outputId": "c7b122fa-fd3f-4d5c-bfdb-aa26fa5746db"
      },
      "outputs": [
        {
          "output_type": "execute_result",
          "data": {
            "text/plain": [
              "10"
            ]
          },
          "metadata": {},
          "execution_count": 13
        }
      ],
      "source": [
        "# Total unique values feature 'year' holds\n",
        "df['year'].nunique()"
      ]
    },
    {
      "cell_type": "code",
      "execution_count": 14,
      "metadata": {
        "colab": {
          "base_uri": "https://localhost:8080/"
        },
        "id": "6C8Dms4tDzZs",
        "outputId": "35450f08-fb2f-4fec-8d00-aced31385bc6"
      },
      "outputs": [
        {
          "output_type": "execute_result",
          "data": {
            "text/plain": [
              "2015    95\n",
              "2016    80\n",
              "2013    71\n",
              "2017    65\n",
              "2018    64\n",
              "2014    58\n",
              "2011    53\n",
              "2010    51\n",
              "2012    35\n",
              "2019    31\n",
              "Name: year, dtype: int64"
            ]
          },
          "metadata": {},
          "execution_count": 14
        }
      ],
      "source": [
        "df['year'].value_counts()"
      ]
    },
    {
      "cell_type": "markdown",
      "metadata": {
        "id": "5lQG-bXtLWa-"
      },
      "source": [
        "### Analysis of numeric features"
      ]
    },
    {
      "cell_type": "code",
      "execution_count": 15,
      "metadata": {
        "colab": {
          "base_uri": "https://localhost:8080/",
          "height": 567
        },
        "id": "8_7J4IXeLW38",
        "outputId": "2bcc35c9-1121-4476-8ae1-19efcdbce383"
      },
      "outputs": [
        {
          "output_type": "execute_result",
          "data": {
            "text/plain": [
              "<matplotlib.axes._subplots.AxesSubplot at 0x7fee270b2f10>"
            ]
          },
          "metadata": {},
          "execution_count": 15
        },
        {
          "output_type": "display_data",
          "data": {
            "text/plain": [
              "<Figure size 720x720 with 2 Axes>"
            ],
            "image/png": "[encoded data removed]"
          },
          "metadata": {
            "needs_background": "light"
          }
        }
      ],
      "source": [
        "plt.subplots(figsize=(10,10))\n",
        "sns.heatmap(df.corr(), cmap=sns.color_palette(\"coolwarm\", 15), annot=True, square=True, cbar=True, cbar_kws=dict(shrink=.6))"
      ]
    },
    {
      "cell_type": "code",
      "execution_count": 16,
      "metadata": {
        "colab": {
          "base_uri": "https://localhost:8080/",
          "height": 442
        },
        "id": "Xo371AITLW8K",
        "outputId": "d70d31cb-a70a-43b3-82b7-3d71517b90ad"
      },
      "outputs": [
        {
          "output_type": "display_data",
          "data": {
            "text/plain": [
              "<Figure size 1152x504 with 2 Axes>"
            ],
            "image/png": "[encoded data removed]"
          },
          "metadata": {
            "needs_background": "light"
          }
        }
      ],
      "source": [
        "# Distribution of length of songs \n",
        "fig, axes = plt.subplots(1, 2, figsize=(16,7))\n",
        "p = sns.histplot(ax=axes[0], data=df, x='Length', kde=True)\n",
        "p.set_ylabel(\"Number of songs\")\n",
        "\n",
        "q = sns.scatterplot(ax=axes[1], data=df, x=\"Length\", y=\"Popularity\", s=100)"
      ]
    },
    {
      "cell_type": "code",
      "execution_count": 17,
      "metadata": {
        "colab": {
          "base_uri": "https://localhost:8080/",
          "height": 442
        },
        "id": "Y5T-x2oILXAA",
        "outputId": "931e514f-6952-4f64-8136-46b36fa32e56"
      },
      "outputs": [
        {
          "output_type": "display_data",
          "data": {
            "text/plain": [
              "<Figure size 1152x504 with 2 Axes>"
            ],
            "image/png": "[encoded data removed]"
          },
          "metadata": {
            "needs_background": "light"
          }
        }
      ],
      "source": [
        "# Distribution of Tempo of songs\n",
        "fig, axes = plt.subplots(1, 2, figsize=(16,7))\n",
        "p = sns.histplot(ax=axes[0], data=df, x='BPM', kde=True)\n",
        "p.set_ylabel(\"Number of songs\")\n",
        "p.set_xlabel(\"Tempo\")\n",
        "\n",
        "q = sns.scatterplot(ax=axes[1], data=df, x=\"BPM\", y=\"Popularity\", s=100)"
      ]
    },
    {
      "cell_type": "code",
      "execution_count": 18,
      "metadata": {
        "colab": {
          "base_uri": "https://localhost:8080/",
          "height": 283
        },
        "id": "N4xHIENANCib",
        "outputId": "e2fbea28-7bad-445c-f7f9-d6dcb433f090"
      },
      "outputs": [
        {
          "output_type": "execute_result",
          "data": {
            "text/plain": [
              "<matplotlib.axes._subplots.AxesSubplot at 0x7fee20c4e3a0>"
            ]
          },
          "metadata": {},
          "execution_count": 18
        },
        {
          "output_type": "display_data",
          "data": {
            "text/plain": [
              "<Figure size 432x288 with 1 Axes>"
            ],
            "image/png": "[encoded data removed]"
          },
          "metadata": {
            "needs_background": "light"
          }
        }
      ],
      "source": [
        "# Distribution of Popularity feature\n",
        "df['Popularity'].hist()"
      ]
    },
    {
      "cell_type": "code",
      "execution_count": 19,
      "metadata": {
        "colab": {
          "base_uri": "https://localhost:8080/"
        },
        "id": "zNipQCMGNT2l",
        "outputId": "4266129a-b00c-4226-ed51-0b8c0605ba19"
      },
      "outputs": [
        {
          "output_type": "execute_result",
          "data": {
            "text/plain": [
              "count    603.000000\n",
              "mean      66.520730\n",
              "std       14.517746\n",
              "min        0.000000\n",
              "25%       60.000000\n",
              "50%       69.000000\n",
              "75%       76.000000\n",
              "max       99.000000\n",
              "Name: Popularity, dtype: float64"
            ]
          },
          "metadata": {},
          "execution_count": 19
        }
      ],
      "source": [
        "df['Popularity'].describe()"
      ]
    },
    {
      "cell_type": "markdown",
      "metadata": {
        "id": "y9Yhq1NlhogX"
      },
      "source": [
        "Regression Model Training"
      ]
    },
    {
      "cell_type": "code",
      "execution_count": 20,
      "metadata": {
        "colab": {
          "base_uri": "https://localhost:8080/",
          "height": 206
        },
        "id": "8bniSw6iLXFp",
        "outputId": "b52886d2-2a3f-40b3-e97a-e028e0884383"
      },
      "outputs": [
        {
          "output_type": "execute_result",
          "data": {
            "text/plain": [
              "     year  BPM  Energy  Danceability  Loudness  Liveness  Valence  Length  \\\n",
              "598  2019  104      66            61        -7        20       16     176   \n",
              "599  2019   95      79            75        -6         7       61     206   \n",
              "600  2019  136      76            53        -5         9       65     260   \n",
              "601  2019  114      79            60        -6        42       24     217   \n",
              "602  2019  150      44            70        -9        13       23     213   \n",
              "\n",
              "     Acousticness  Speechiness  \n",
              "598             1            3  \n",
              "599            21           12  \n",
              "600             7           34  \n",
              "601             1            7  \n",
              "602             6            6  "
            ],
            "text/html": [
              "\n",
              "  <div id=\"df-b46a3cc7-aeac-4eb5-89b8-85d348cc68d5\">\n",
              "    <div class=\"colab-df-container\">\n",
              "      <div>\n",
              "<style scoped>\n",
              "    .dataframe tbody tr th:only-of-type {\n",
              "        vertical-align: middle;\n",
              "    }\n",
              "\n",
              "    .dataframe tbody tr th {\n",
              "        vertical-align: top;\n",
              "    }\n",
              "\n",
              "    .dataframe thead th {\n",
              "        text-align: right;\n",
              "    }\n",
              "</style>\n",
              "<table border=\"1\" class=\"dataframe\">\n",
              "  <thead>\n",
              "    <tr style=\"text-align: right;\">\n",
              "      <th></th>\n",
              "      <th>year</th>\n",
              "      <th>BPM</th>\n",
              "      <th>Energy</th>\n",
              "      <th>Danceability</th>\n",
              "      <th>Loudness</th>\n",
              "      <th>Liveness</th>\n",
              "      <th>Valence</th>\n",
              "      <th>Length</th>\n",
              "      <th>Acousticness</th>\n",
              "      <th>Speechiness</th>\n",
              "    </tr>\n",
              "  </thead>\n",
              "  <tbody>\n",
              "    <tr>\n",
              "      <th>598</th>\n",
              "      <td>2019</td>\n",
              "      <td>104</td>\n",
              "      <td>66</td>\n",
              "      <td>61</td>\n",
              "      <td>-7</td>\n",
              "      <td>20</td>\n",
              "      <td>16</td>\n",
              "      <td>176</td>\n",
              "      <td>1</td>\n",
              "      <td>3</td>\n",
              "    </tr>\n",
              "    <tr>\n",
              "      <th>599</th>\n",
              "      <td>2019</td>\n",
              "      <td>95</td>\n",
              "      <td>79</td>\n",
              "      <td>75</td>\n",
              "      <td>-6</td>\n",
              "      <td>7</td>\n",
              "      <td>61</td>\n",
              "      <td>206</td>\n",
              "      <td>21</td>\n",
              "      <td>12</td>\n",
              "    </tr>\n",
              "    <tr>\n",
              "      <th>600</th>\n",
              "      <td>2019</td>\n",
              "      <td>136</td>\n",
              "      <td>76</td>\n",
              "      <td>53</td>\n",
              "      <td>-5</td>\n",
              "      <td>9</td>\n",
              "      <td>65</td>\n",
              "      <td>260</td>\n",
              "      <td>7</td>\n",
              "      <td>34</td>\n",
              "    </tr>\n",
              "    <tr>\n",
              "      <th>601</th>\n",
              "      <td>2019</td>\n",
              "      <td>114</td>\n",
              "      <td>79</td>\n",
              "      <td>60</td>\n",
              "      <td>-6</td>\n",
              "      <td>42</td>\n",
              "      <td>24</td>\n",
              "      <td>217</td>\n",
              "      <td>1</td>\n",
              "      <td>7</td>\n",
              "    </tr>\n",
              "    <tr>\n",
              "      <th>602</th>\n",
              "      <td>2019</td>\n",
              "      <td>150</td>\n",
              "      <td>44</td>\n",
              "      <td>70</td>\n",
              "      <td>-9</td>\n",
              "      <td>13</td>\n",
              "      <td>23</td>\n",
              "      <td>213</td>\n",
              "      <td>6</td>\n",
              "      <td>6</td>\n",
              "    </tr>\n",
              "  </tbody>\n",
              "</table>\n",
              "</div>\n",
              "      <button class=\"colab-df-convert\" onclick=\"convertToInteractive('df-b46a3cc7-aeac-4eb5-89b8-85d348cc68d5')\"\n",
              "              title=\"Convert this dataframe to an interactive table.\"\n",
              "              style=\"display:none;\">\n",
              "        \n",
              "  <svg xmlns=\"http://www.w3.org/2000/svg\" height=\"24px\"viewBox=\"0 0 24 24\"\n",
              "       width=\"24px\">\n",
              "    <path d=\"M0 0h24v24H0V0z\" fill=\"none\"/>\n",
              "    <path d=\"M18.56 5.44l.94 2.06.94-2.06 2.06-.94-2.06-.94-.94-2.06-.94 2.06-2.06.94zm-11 1L8.5 8.5l.94-2.06 2.06-.94-2.06-.94L8.5 2.5l-.94 2.06-2.06.94zm10 10l.94 2.06.94-2.06 2.06-.94-2.06-.94-.94-2.06-.94 2.06-2.06.94z\"/><path d=\"M17.41 7.96l-1.37-1.37c-.4-.4-.92-.59-1.43-.59-.52 0-1.04.2-1.43.59L10.3 9.45l-7.72 7.72c-.78.78-.78 2.05 0 2.83L4 21.41c.39.39.9.59 1.41.59.51 0 1.02-.2 1.41-.59l7.78-7.78 2.81-2.81c.8-.78.8-2.07 0-2.86zM5.41 20L4 18.59l7.72-7.72 1.47 1.35L5.41 20z\"/>\n",
              "  </svg>\n",
              "      </button>\n",
              "      \n",
              "  <style>\n",
              "    .colab-df-container {\n",
              "      display:flex;\n",
              "      flex-wrap:wrap;\n",
              "      gap: 12px;\n",
              "    }\n",
              "\n",
              "    .colab-df-convert {\n",
              "      background-color: #E8F0FE;\n",
              "      border: none;\n",
              "      border-radius: 50%;\n",
              "      cursor: pointer;\n",
              "      display: none;\n",
              "      fill: #1967D2;\n",
              "      height: 32px;\n",
              "      padding: 0 0 0 0;\n",
              "      width: 32px;\n",
              "    }\n",
              "\n",
              "    .colab-df-convert:hover {\n",
              "      background-color: #E2EBFA;\n",
              "      box-shadow: 0px 1px 2px rgba(60, 64, 67, 0.3), 0px 1px 3px 1px rgba(60, 64, 67, 0.15);\n",
              "      fill: #174EA6;\n",
              "    }\n",
              "\n",
              "    [theme=dark] .colab-df-convert {\n",
              "      background-color: #3B4455;\n",
              "      fill: #D2E3FC;\n",
              "    }\n",
              "\n",
              "    [theme=dark] .colab-df-convert:hover {\n",
              "      background-color: #434B5C;\n",
              "      box-shadow: 0px 1px 3px 1px rgba(0, 0, 0, 0.15);\n",
              "      filter: drop-shadow(0px 1px 2px rgba(0, 0, 0, 0.3));\n",
              "      fill: #FFFFFF;\n",
              "    }\n",
              "  </style>\n",
              "\n",
              "      <script>\n",
              "        const buttonEl =\n",
              "          document.querySelector('#df-b46a3cc7-aeac-4eb5-89b8-85d348cc68d5 button.colab-df-convert');\n",
              "        buttonEl.style.display =\n",
              "          google.colab.kernel.accessAllowed ? 'block' : 'none';\n",
              "\n",
              "        async function convertToInteractive(key) {\n",
              "          const element = document.querySelector('#df-b46a3cc7-aeac-4eb5-89b8-85d348cc68d5');\n",
              "          const dataTable =\n",
              "            await google.colab.kernel.invokeFunction('convertToInteractive',\n",
              "                                                     [key], {});\n",
              "          if (!dataTable) return;\n",
              "\n",
              "          const docLinkHtml = 'Like what you see? Visit the ' +\n",
              "            '<a target=\"_blank\" href=https://colab.research.google.com/notebooks/data_table.ipynb>data table notebook</a>'\n",
              "            + ' to learn more about interactive tables.';\n",
              "          element.innerHTML = '';\n",
              "          dataTable['output_type'] = 'display_data';\n",
              "          await google.colab.output.renderOutput(dataTable, element);\n",
              "          const docLink = document.createElement('div');\n",
              "          docLink.innerHTML = docLinkHtml;\n",
              "          element.appendChild(docLink);\n",
              "        }\n",
              "      </script>\n",
              "    </div>\n",
              "  </div>\n",
              "  "
            ]
          },
          "metadata": {},
          "execution_count": 20
        }
      ],
      "source": [
        "X = df.iloc[:,3:-1]\n",
        "X.tail()"
      ]
    },
    {
      "cell_type": "code",
      "execution_count": 21,
      "metadata": {
        "id": "MTTuF8wrEQuy",
        "colab": {
          "base_uri": "https://localhost:8080/",
          "height": 468
        },
        "outputId": "b8368da3-fd9b-4ac9-82c9-32a106f2bfe3"
      },
      "outputs": [
        {
          "output_type": "execute_result",
          "data": {
            "text/plain": [
              "     year  BPM  Energy  Danceability  Loudness  Liveness  Valence  Length  \\\n",
              "0       0   97      89            67        -4         8       80     217   \n",
              "1       0   87      93            75        -5        52       64     263   \n",
              "2       0  120      84            76        -3        29       71     200   \n",
              "3       0  119      92            70        -4         8       71     295   \n",
              "4       0  109      84            64        -5         9       43     221   \n",
              "..    ...  ...     ...           ...       ...       ...      ...     ...   \n",
              "598     9  104      66            61        -7        20       16     176   \n",
              "599     9   95      79            75        -6         7       61     206   \n",
              "600     9  136      76            53        -5         9       65     260   \n",
              "601     9  114      79            60        -6        42       24     217   \n",
              "602     9  150      44            70        -9        13       23     213   \n",
              "\n",
              "     Acousticness  Speechiness    0    1    2    3    4    5    6    7    8  \\\n",
              "0              19            4  1.0  0.0  0.0  0.0  0.0  0.0  0.0  0.0  0.0   \n",
              "1              24           23  1.0  0.0  0.0  0.0  0.0  0.0  0.0  0.0  0.0   \n",
              "2              10           14  1.0  0.0  0.0  0.0  0.0  0.0  0.0  0.0  0.0   \n",
              "3               0            4  1.0  0.0  0.0  0.0  0.0  0.0  0.0  0.0  0.0   \n",
              "4               2            4  1.0  0.0  0.0  0.0  0.0  0.0  0.0  0.0  0.0   \n",
              "..            ...          ...  ...  ...  ...  ...  ...  ...  ...  ...  ...   \n",
              "598             1            3  0.0  0.0  0.0  0.0  0.0  0.0  0.0  0.0  0.0   \n",
              "599            21           12  0.0  0.0  0.0  0.0  0.0  0.0  0.0  0.0  0.0   \n",
              "600             7           34  0.0  0.0  0.0  0.0  0.0  0.0  0.0  0.0  0.0   \n",
              "601             1            7  0.0  0.0  0.0  0.0  0.0  0.0  0.0  0.0  0.0   \n",
              "602             6            6  0.0  0.0  0.0  0.0  0.0  0.0  0.0  0.0  0.0   \n",
              "\n",
              "       9  \n",
              "0    0.0  \n",
              "1    0.0  \n",
              "2    0.0  \n",
              "3    0.0  \n",
              "4    0.0  \n",
              "..   ...  \n",
              "598  1.0  \n",
              "599  1.0  \n",
              "600  1.0  \n",
              "601  1.0  \n",
              "602  1.0  \n",
              "\n",
              "[603 rows x 20 columns]"
            ],
            "text/html": [
              "\n",
              "  <div id=\"df-006f564c-e996-4636-ab24-00b72acdefff\">\n",
              "    <div class=\"colab-df-container\">\n",
              "      <div>\n",
              "<style scoped>\n",
              "    .dataframe tbody tr th:only-of-type {\n",
              "        vertical-align: middle;\n",
              "    }\n",
              "\n",
              "    .dataframe tbody tr th {\n",
              "        vertical-align: top;\n",
              "    }\n",
              "\n",
              "    .dataframe thead th {\n",
              "        text-align: right;\n",
              "    }\n",
              "</style>\n",
              "<table border=\"1\" class=\"dataframe\">\n",
              "  <thead>\n",
              "    <tr style=\"text-align: right;\">\n",
              "      <th></th>\n",
              "      <th>year</th>\n",
              "      <th>BPM</th>\n",
              "      <th>Energy</th>\n",
              "      <th>Danceability</th>\n",
              "      <th>Loudness</th>\n",
              "      <th>Liveness</th>\n",
              "      <th>Valence</th>\n",
              "      <th>Length</th>\n",
              "      <th>Acousticness</th>\n",
              "      <th>Speechiness</th>\n",
              "      <th>0</th>\n",
              "      <th>1</th>\n",
              "      <th>2</th>\n",
              "      <th>3</th>\n",
              "      <th>4</th>\n",
              "      <th>5</th>\n",
              "      <th>6</th>\n",
              "      <th>7</th>\n",
              "      <th>8</th>\n",
              "      <th>9</th>\n",
              "    </tr>\n",
              "  </thead>\n",
              "  <tbody>\n",
              "    <tr>\n",
              "      <th>0</th>\n",
              "      <td>0</td>\n",
              "      <td>97</td>\n",
              "      <td>89</td>\n",
              "      <td>67</td>\n",
              "      <td>-4</td>\n",
              "      <td>8</td>\n",
              "      <td>80</td>\n",
              "      <td>217</td>\n",
              "      <td>19</td>\n",
              "      <td>4</td>\n",
              "      <td>1.0</td>\n",
              "      <td>0.0</td>\n",
              "      <td>0.0</td>\n",
              "      <td>0.0</td>\n",
              "      <td>0.0</td>\n",
              "      <td>0.0</td>\n",
              "      <td>0.0</td>\n",
              "      <td>0.0</td>\n",
              "      <td>0.0</td>\n",
              "      <td>0.0</td>\n",
              "    </tr>\n",
              "    <tr>\n",
              "      <th>1</th>\n",
              "      <td>0</td>\n",
              "      <td>87</td>\n",
              "      <td>93</td>\n",
              "      <td>75</td>\n",
              "      <td>-5</td>\n",
              "      <td>52</td>\n",
              "      <td>64</td>\n",
              "      <td>263</td>\n",
              "      <td>24</td>\n",
              "      <td>23</td>\n",
              "      <td>1.0</td>\n",
              "      <td>0.0</td>\n",
              "      <td>0.0</td>\n",
              "      <td>0.0</td>\n",
              "      <td>0.0</td>\n",
              "      <td>0.0</td>\n",
              "      <td>0.0</td>\n",
              "      <td>0.0</td>\n",
              "      <td>0.0</td>\n",
              "      <td>0.0</td>\n",
              "    </tr>\n",
              "    <tr>\n",
              "      <th>2</th>\n",
              "      <td>0</td>\n",
              "      <td>120</td>\n",
              "      <td>84</td>\n",
              "      <td>76</td>\n",
              "      <td>-3</td>\n",
              "      <td>29</td>\n",
              "      <td>71</td>\n",
              "      <td>200</td>\n",
              "      <td>10</td>\n",
              "      <td>14</td>\n",
              "      <td>1.0</td>\n",
              "      <td>0.0</td>\n",
              "      <td>0.0</td>\n",
              "      <td>0.0</td>\n",
              "      <td>0.0</td>\n",
              "      <td>0.0</td>\n",
              "      <td>0.0</td>\n",
              "      <td>0.0</td>\n",
              "      <td>0.0</td>\n",
              "      <td>0.0</td>\n",
              "    </tr>\n",
              "    <tr>\n",
              "      <th>3</th>\n",
              "      <td>0</td>\n",
              "      <td>119</td>\n",
              "      <td>92</td>\n",
              "      <td>70</td>\n",
              "      <td>-4</td>\n",
              "      <td>8</td>\n",
              "      <td>71</td>\n",
              "      <td>295</td>\n",
              "      <td>0</td>\n",
              "      <td>4</td>\n",
              "      <td>1.0</td>\n",
              "      <td>0.0</td>\n",
              "      <td>0.0</td>\n",
              "      <td>0.0</td>\n",
              "      <td>0.0</td>\n",
              "      <td>0.0</td>\n",
              "      <td>0.0</td>\n",
              "      <td>0.0</td>\n",
              "      <td>0.0</td>\n",
              "      <td>0.0</td>\n",
              "    </tr>\n",
              "    <tr>\n",
              "      <th>4</th>\n",
              "      <td>0</td>\n",
              "      <td>109</td>\n",
              "      <td>84</td>\n",
              "      <td>64</td>\n",
              "      <td>-5</td>\n",
              "      <td>9</td>\n",
              "      <td>43</td>\n",
              "      <td>221</td>\n",
              "      <td>2</td>\n",
              "      <td>4</td>\n",
              "      <td>1.0</td>\n",
              "      <td>0.0</td>\n",
              "      <td>0.0</td>\n",
              "      <td>0.0</td>\n",
              "      <td>0.0</td>\n",
              "      <td>0.0</td>\n",
              "      <td>0.0</td>\n",
              "      <td>0.0</td>\n",
              "      <td>0.0</td>\n",
              "      <td>0.0</td>\n",
              "    </tr>\n",
              "    <tr>\n",
              "      <th>...</th>\n",
              "      <td>...</td>\n",
              "      <td>...</td>\n",
              "      <td>...</td>\n",
              "      <td>...</td>\n",
              "      <td>...</td>\n",
              "      <td>...</td>\n",
              "      <td>...</td>\n",
              "      <td>...</td>\n",
              "      <td>...</td>\n",
              "      <td>...</td>\n",
              "      <td>...</td>\n",
              "      <td>...</td>\n",
              "      <td>...</td>\n",
              "      <td>...</td>\n",
              "      <td>...</td>\n",
              "      <td>...</td>\n",
              "      <td>...</td>\n",
              "      <td>...</td>\n",
              "      <td>...</td>\n",
              "      <td>...</td>\n",
              "    </tr>\n",
              "    <tr>\n",
              "      <th>598</th>\n",
              "      <td>9</td>\n",
              "      <td>104</td>\n",
              "      <td>66</td>\n",
              "      <td>61</td>\n",
              "      <td>-7</td>\n",
              "      <td>20</td>\n",
              "      <td>16</td>\n",
              "      <td>176</td>\n",
              "      <td>1</td>\n",
              "      <td>3</td>\n",
              "      <td>0.0</td>\n",
              "      <td>0.0</td>\n",
              "      <td>0.0</td>\n",
              "      <td>0.0</td>\n",
              "      <td>0.0</td>\n",
              "      <td>0.0</td>\n",
              "      <td>0.0</td>\n",
              "      <td>0.0</td>\n",
              "      <td>0.0</td>\n",
              "      <td>1.0</td>\n",
              "    </tr>\n",
              "    <tr>\n",
              "      <th>599</th>\n",
              "      <td>9</td>\n",
              "      <td>95</td>\n",
              "      <td>79</td>\n",
              "      <td>75</td>\n",
              "      <td>-6</td>\n",
              "      <td>7</td>\n",
              "      <td>61</td>\n",
              "      <td>206</td>\n",
              "      <td>21</td>\n",
              "      <td>12</td>\n",
              "      <td>0.0</td>\n",
              "      <td>0.0</td>\n",
              "      <td>0.0</td>\n",
              "      <td>0.0</td>\n",
              "      <td>0.0</td>\n",
              "      <td>0.0</td>\n",
              "      <td>0.0</td>\n",
              "      <td>0.0</td>\n",
              "      <td>0.0</td>\n",
              "      <td>1.0</td>\n",
              "    </tr>\n",
              "    <tr>\n",
              "      <th>600</th>\n",
              "      <td>9</td>\n",
              "      <td>136</td>\n",
              "      <td>76</td>\n",
              "      <td>53</td>\n",
              "      <td>-5</td>\n",
              "      <td>9</td>\n",
              "      <td>65</td>\n",
              "      <td>260</td>\n",
              "      <td>7</td>\n",
              "      <td>34</td>\n",
              "      <td>0.0</td>\n",
              "      <td>0.0</td>\n",
              "      <td>0.0</td>\n",
              "      <td>0.0</td>\n",
              "      <td>0.0</td>\n",
              "      <td>0.0</td>\n",
              "      <td>0.0</td>\n",
              "      <td>0.0</td>\n",
              "      <td>0.0</td>\n",
              "      <td>1.0</td>\n",
              "    </tr>\n",
              "    <tr>\n",
              "      <th>601</th>\n",
              "      <td>9</td>\n",
              "      <td>114</td>\n",
              "      <td>79</td>\n",
              "      <td>60</td>\n",
              "      <td>-6</td>\n",
              "      <td>42</td>\n",
              "      <td>24</td>\n",
              "      <td>217</td>\n",
              "      <td>1</td>\n",
              "      <td>7</td>\n",
              "      <td>0.0</td>\n",
              "      <td>0.0</td>\n",
              "      <td>0.0</td>\n",
              "      <td>0.0</td>\n",
              "      <td>0.0</td>\n",
              "      <td>0.0</td>\n",
              "      <td>0.0</td>\n",
              "      <td>0.0</td>\n",
              "      <td>0.0</td>\n",
              "      <td>1.0</td>\n",
              "    </tr>\n",
              "    <tr>\n",
              "      <th>602</th>\n",
              "      <td>9</td>\n",
              "      <td>150</td>\n",
              "      <td>44</td>\n",
              "      <td>70</td>\n",
              "      <td>-9</td>\n",
              "      <td>13</td>\n",
              "      <td>23</td>\n",
              "      <td>213</td>\n",
              "      <td>6</td>\n",
              "      <td>6</td>\n",
              "      <td>0.0</td>\n",
              "      <td>0.0</td>\n",
              "      <td>0.0</td>\n",
              "      <td>0.0</td>\n",
              "      <td>0.0</td>\n",
              "      <td>0.0</td>\n",
              "      <td>0.0</td>\n",
              "      <td>0.0</td>\n",
              "      <td>0.0</td>\n",
              "      <td>1.0</td>\n",
              "    </tr>\n",
              "  </tbody>\n",
              "</table>\n",
              "<p>603 rows × 20 columns</p>\n",
              "</div>\n",
              "      <button class=\"colab-df-convert\" onclick=\"convertToInteractive('df-006f564c-e996-4636-ab24-00b72acdefff')\"\n",
              "              title=\"Convert this dataframe to an interactive table.\"\n",
              "              style=\"display:none;\">\n",
              "        \n",
              "  <svg xmlns=\"http://www.w3.org/2000/svg\" height=\"24px\"viewBox=\"0 0 24 24\"\n",
              "       width=\"24px\">\n",
              "    <path d=\"M0 0h24v24H0V0z\" fill=\"none\"/>\n",
              "    <path d=\"M18.56 5.44l.94 2.06.94-2.06 2.06-.94-2.06-.94-.94-2.06-.94 2.06-2.06.94zm-11 1L8.5 8.5l.94-2.06 2.06-.94-2.06-.94L8.5 2.5l-.94 2.06-2.06.94zm10 10l.94 2.06.94-2.06 2.06-.94-2.06-.94-.94-2.06-.94 2.06-2.06.94z\"/><path d=\"M17.41 7.96l-1.37-1.37c-.4-.4-.92-.59-1.43-.59-.52 0-1.04.2-1.43.59L10.3 9.45l-7.72 7.72c-.78.78-.78 2.05 0 2.83L4 21.41c.39.39.9.59 1.41.59.51 0 1.02-.2 1.41-.59l7.78-7.78 2.81-2.81c.8-.78.8-2.07 0-2.86zM5.41 20L4 18.59l7.72-7.72 1.47 1.35L5.41 20z\"/>\n",
              "  </svg>\n",
              "      </button>\n",
              "      \n",
              "  <style>\n",
              "    .colab-df-container {\n",
              "      display:flex;\n",
              "      flex-wrap:wrap;\n",
              "      gap: 12px;\n",
              "    }\n",
              "\n",
              "    .colab-df-convert {\n",
              "      background-color: #E8F0FE;\n",
              "      border: none;\n",
              "      border-radius: 50%;\n",
              "      cursor: pointer;\n",
              "      display: none;\n",
              "      fill: #1967D2;\n",
              "      height: 32px;\n",
              "      padding: 0 0 0 0;\n",
              "      width: 32px;\n",
              "    }\n",
              "\n",
              "    .colab-df-convert:hover {\n",
              "      background-color: #E2EBFA;\n",
              "      box-shadow: 0px 1px 2px rgba(60, 64, 67, 0.3), 0px 1px 3px 1px rgba(60, 64, 67, 0.15);\n",
              "      fill: #174EA6;\n",
              "    }\n",
              "\n",
              "    [theme=dark] .colab-df-convert {\n",
              "      background-color: #3B4455;\n",
              "      fill: #D2E3FC;\n",
              "    }\n",
              "\n",
              "    [theme=dark] .colab-df-convert:hover {\n",
              "      background-color: #434B5C;\n",
              "      box-shadow: 0px 1px 3px 1px rgba(0, 0, 0, 0.15);\n",
              "      filter: drop-shadow(0px 1px 2px rgba(0, 0, 0, 0.3));\n",
              "      fill: #FFFFFF;\n",
              "    }\n",
              "  </style>\n",
              "\n",
              "      <script>\n",
              "        const buttonEl =\n",
              "          document.querySelector('#df-006f564c-e996-4636-ab24-00b72acdefff button.colab-df-convert');\n",
              "        buttonEl.style.display =\n",
              "          google.colab.kernel.accessAllowed ? 'block' : 'none';\n",
              "\n",
              "        async function convertToInteractive(key) {\n",
              "          const element = document.querySelector('#df-006f564c-e996-4636-ab24-00b72acdefff');\n",
              "          const dataTable =\n",
              "            await google.colab.kernel.invokeFunction('convertToInteractive',\n",
              "                                                     [key], {});\n",
              "          if (!dataTable) return;\n",
              "\n",
              "          const docLinkHtml = 'Like what you see? Visit the ' +\n",
              "            '<a target=\"_blank\" href=https://colab.research.google.com/notebooks/data_table.ipynb>data table notebook</a>'\n",
              "            + ' to learn more about interactive tables.';\n",
              "          element.innerHTML = '';\n",
              "          dataTable['output_type'] = 'display_data';\n",
              "          await google.colab.output.renderOutput(dataTable, element);\n",
              "          const docLink = document.createElement('div');\n",
              "          docLink.innerHTML = docLinkHtml;\n",
              "          element.appendChild(docLink);\n",
              "        }\n",
              "      </script>\n",
              "    </div>\n",
              "  </div>\n",
              "  "
            ]
          },
          "metadata": {},
          "execution_count": 21
        }
      ],
      "source": [
        "# Encoding categorical feature 'year' using OneHotEncoding \n",
        "l_enc= LabelEncoder()\n",
        "X['year'] = l_enc.fit_transform(X['year'])\n",
        "\n",
        "o_enc = OneHotEncoder(handle_unknown='ignore')\n",
        "enc_X = pd.DataFrame(o_enc.fit_transform(X[['year']]).toarray())\n",
        "X = X.join(enc_X)\n",
        "X.rename(columns = {\n",
        "    '0': 'year_2010',\n",
        "    '1': 'year_2011',\n",
        "    '2': 'year_2012',\n",
        "    '3': 'year_2013',\n",
        "    '4': 'year_2014',\n",
        "    '5': 'year_2015',\n",
        "    '6': 'year_2016',\n",
        "    '7': 'year_2017',\n",
        "    '8': 'year_2018',\n",
        "    '9': 'year_2019'\n",
        "}, inplace=True)\n",
        "X.drop(columns=['year'])\n",
        "X"
      ]
    },
    {
      "cell_type": "code",
      "execution_count": 22,
      "metadata": {
        "colab": {
          "base_uri": "https://localhost:8080/"
        },
        "id": "JoMvcBVGhgAM",
        "outputId": "3a0c26a7-5af6-43bd-e339-3702062d0649"
      },
      "outputs": [
        {
          "output_type": "execute_result",
          "data": {
            "text/plain": [
              "0    83\n",
              "1    82\n",
              "2    80\n",
              "3    79\n",
              "4    78\n",
              "Name: Popularity, dtype: int64"
            ]
          },
          "metadata": {},
          "execution_count": 22
        }
      ],
      "source": [
        "Y = df.loc[:, 'Popularity']\n",
        "Y.head()"
      ]
    },
    {
      "cell_type": "code",
      "execution_count": 23,
      "metadata": {
        "id": "3GUQDiCNhopD"
      },
      "outputs": [],
      "source": [
        "# Division of dataset into training and testing sets\n",
        "X_train, X_test, Y_train, Y_test = train_test_split(X,Y,\n",
        "                                   random_state=104, \n",
        "                                   test_size=0.25, \n",
        "                                   shuffle=True)"
      ]
    },
    {
      "cell_type": "code",
      "execution_count": 24,
      "metadata": {
        "id": "mUV27DjlkDBl",
        "colab": {
          "base_uri": "https://localhost:8080/"
        },
        "outputId": "66c6c5f1-66e7-4326-b334-5338e67df594"
      },
      "outputs": [
        {
          "output_type": "stream",
          "name": "stderr",
          "text": [
            "/usr/local/lib/python3.8/dist-packages/sklearn/utils/validation.py:1688: FutureWarning: Feature names only support names that are all strings. Got feature names with dtypes: ['int', 'str']. An error will be raised in 1.2.\n",
            "  warnings.warn(\n",
            "/usr/local/lib/python3.8/dist-packages/sklearn/utils/validation.py:1688: FutureWarning: Feature names only support names that are all strings. Got feature names with dtypes: ['int', 'str']. An error will be raised in 1.2.\n",
            "  warnings.warn(\n",
            "/usr/local/lib/python3.8/dist-packages/sklearn/utils/validation.py:1688: FutureWarning: Feature names only support names that are all strings. Got feature names with dtypes: ['int', 'str']. An error will be raised in 1.2.\n",
            "  warnings.warn(\n",
            "/usr/local/lib/python3.8/dist-packages/sklearn/utils/validation.py:1688: FutureWarning: Feature names only support names that are all strings. Got feature names with dtypes: ['int', 'str']. An error will be raised in 1.2.\n",
            "  warnings.warn(\n"
          ]
        }
      ],
      "source": [
        "# Normalization \n",
        "scaler = MinMaxScaler()\n",
        "minmax_df = scaler.fit_transform(X_train)\n",
        "Norm_X_train = pd.DataFrame(minmax_df)\n",
        "\n",
        "scaler = MinMaxScaler()\n",
        "minmax_df = scaler.fit_transform(X_test)\n",
        "Norm_X_test = pd.DataFrame(minmax_df)"
      ]
    },
    {
      "cell_type": "markdown",
      "source": [
        "Linear Regression Model:"
      ],
      "metadata": {
        "id": "gpfiqsuJkDk6"
      }
    },
    {
      "cell_type": "code",
      "execution_count": 25,
      "metadata": {
        "id": "Ejt7EkPnifST",
        "colab": {
          "base_uri": "https://localhost:8080/"
        },
        "outputId": "8ccceeaa-d1ef-4b57-b632-050f5b29eb45"
      },
      "outputs": [
        {
          "output_type": "stream",
          "name": "stdout",
          "text": [
            "Train Score: 0.2038376102078917\n",
            "Test Score: -2.458657733378738\n",
            "R2 Score: -2.458657733378738\n",
            "MAE: 24.801324503311257\n",
            "MSE: 797.3327814569536\n",
            "RMSE: 28.23708167387263\n"
          ]
        }
      ],
      "source": [
        "reg = LinearRegression().fit(Norm_X_train, Y_train)\n",
        "train_score = reg.score(Norm_X_train, Y_train)\n",
        "print(f'Train Score: {train_score}')\n",
        "\n",
        "y_pred = reg.predict(Norm_X_test)\n",
        "test_score = reg.score(Norm_X_test, Y_test)\n",
        "print(f'Test Score: {test_score}')\n",
        "\n",
        "print(f'R2 Score: {r2_score(Y_test, y_pred)}')\n",
        "  \n",
        "mae = mean_absolute_error(y_true=Y_test,y_pred=y_pred)\n",
        "#squared True returns MSE value, False returns RMSE value.\n",
        "mse = mean_squared_error(y_true=Y_test,y_pred=y_pred) #default=True\n",
        "rmse = mean_squared_error(y_true=Y_test,y_pred=y_pred,squared=False)\n",
        "print(\"MAE:\",mae)\n",
        "print(\"MSE:\",mse)\n",
        "print(\"RMSE:\",rmse)"
      ]
    },
    {
      "cell_type": "markdown",
      "metadata": {
        "id": "QicyHd_YWJfR"
      },
      "source": [
        "Conversion to classification problem:"
      ]
    },
    {
      "cell_type": "code",
      "source": [
        "# Important definitions that we will be using throughtout the experiments\n",
        "def PreProcess(df: pd.DataFrame) -> pd.DataFrame:\n",
        "  df.isna()\n",
        "  df.rename(columns = {\n",
        "    'the genre of the track': 'genre',\n",
        "    'Beats.Per.Minute -The tempo of the song': 'BPM',\n",
        "    'Energy- The energy of a song - the higher the value, the more energtic': 'Energy',\n",
        "    'Danceability - The higher the value, the easier it is to dance to this song': 'Danceability',\n",
        "    'Loudness/dB - The higher the value, the louder the song': 'Loudness',\n",
        "    'Liveness - The higher the value, the more likely the song is a live recording': 'Liveness',\n",
        "    'Valence - The higher the value, the more positive mood for the song': 'Valence',\n",
        "    'Length - The duration of the song': 'Length',\n",
        "    'Acousticness - The higher the value the more acoustic the song is': 'Acousticness',\n",
        "    'Speechiness - The higher the value the more spoken word the song contains': 'Speechiness',\n",
        "    'Popularity- The higher the value the more popular the song is': 'Popularity'\n",
        "  }, inplace=True)\n",
        "  return df\n",
        "\n",
        "def SplitDataset(X: pd.DataFrame, Y: pd.DataFrame) -> pd.DataFrame:\n",
        "  X_train, X_test, Y_train, Y_test = train_test_split(X,Y,\n",
        "                                   random_state=104, \n",
        "                                   test_size=0.25, \n",
        "                                   shuffle=True)\n",
        "  return X_train, X_test, Y_train, Y_test\n",
        "\n",
        "def ConvertYear(X: pd.DataFrame) -> pd.DataFrame:\n",
        "  l_enc= LabelEncoder()\n",
        "  X['year'] = l_enc.fit_transform(X['year'])\n",
        "  o_enc = OneHotEncoder(handle_unknown='ignore')\n",
        "  enc_X = pd.DataFrame(o_enc.fit_transform(X[['year']]).toarray())\n",
        "  X = X.join(enc_X)\n",
        "  X.rename(columns = {\n",
        "      '0': 'year_2010',\n",
        "      '1': 'year_2011',\n",
        "      '2': 'year_2012',\n",
        "      '3': 'year_2013',\n",
        "      '4': 'year_2014',\n",
        "      '5': 'year_2015',\n",
        "      '6': 'year_2016',\n",
        "      '7': 'year_2017',\n",
        "      '8': 'year_2018',\n",
        "      '9': 'year_2019'\n",
        "  }, inplace=True)\n",
        "  X.drop(columns=['year'])\n",
        "  return X\n",
        "\n",
        "def Normalize(X_train, X_test):\n",
        "  scaler = MinMaxScaler()\n",
        "  minmax_df = scaler.fit_transform(X_train)\n",
        "  Norm_X_train = pd.DataFrame(minmax_df)\n",
        "\n",
        "  scaler = MinMaxScaler()\n",
        "  minmax_df = scaler.fit_transform(X_test)\n",
        "  Norm_X_test = pd.DataFrame(minmax_df)\n",
        "  return Norm_X_train, Norm_X_test\n",
        "\n",
        "def Standardization(X):\n",
        "  SC = StandardScaler()\n",
        "  Scaled_X = SC.fit_transform(X)\n",
        "  return Scaled_X"
      ],
      "metadata": {
        "id": "vLQm10CeyHgc"
      },
      "execution_count": 26,
      "outputs": []
    },
    {
      "cell_type": "code",
      "source": [
        "# Cross Validation definitions\n",
        "def LOO(X, Y, model):\n",
        "  LOOCV = LeaveOneOut()\n",
        "  scoring = {'accuracy' : make_scorer(accuracy_score), \n",
        "       'precision' : make_scorer(precision_score, average = 'micro'),\n",
        "       'recall' : make_scorer(recall_score, average = 'micro'), \n",
        "       'f1_score' : make_scorer(f1_score, average = 'micro')}\n",
        "  score = cross_validate(model, X, Y, cv=LOOCV, scoring=scoring)\n",
        "  print(\"For LOOCV:\")\n",
        "  print(f'Avg Precision: {sum(score[\"test_precision\"])/len(score[\"test_precision\"])}')\n",
        "  print(f'Avg Recall: {sum(score[\"test_recall\"])/len(score[\"test_recall\"])}')\n",
        "  print(f'Avg F1_Score: {sum(score[\"test_f1_score\"])/len(score[\"test_f1_score\"])}')\n",
        "  print(f'Average Accuracy of LOOCV : {sum(score[\"test_accuracy\"])/len(score[\"test_accuracy\"])}')\n",
        "  # errors = cross_val_score(model, X, Y, cv=LOOCV, scoring='neg_mean_absolute_error')\n",
        "  # MSE = np.absolute(errors)\n",
        "  # print(f'Average Error of LOOCV : {MSE.mean():.3f}')\n",
        "\n",
        "def StratifiedCV(X, Y, model, splits):\n",
        "  print(f\"For {splits}-Fold:\")\n",
        "  KFCV = KFold(n_splits = splits)\n",
        "  scoring = {'accuracy' : make_scorer(accuracy_score), \n",
        "       'precision' : make_scorer(precision_score, average = 'micro'),\n",
        "       'recall' : make_scorer(recall_score, average = 'micro'), \n",
        "       'f1_score' : make_scorer(f1_score, average = 'micro')}\n",
        "  score = cross_validate(model, X, Y, cv=KFCV, scoring=scoring)\n",
        "  print(f'Avg Accuracy of {splits}-fold: {sum(score[\"test_accuracy\"])/len(score[\"test_accuracy\"])}')\n",
        "  print(f'Avg Precision: {sum(score[\"test_precision\"])/len(score[\"test_precision\"])}')\n",
        "  print(f'Avg Recall: {sum(score[\"test_recall\"])/len(score[\"test_recall\"])}')\n",
        "  print(f'Avg F1_Score: {sum(score[\"test_f1_score\"])/len(score[\"test_f1_score\"])}')\n",
        "\n",
        "  # MSE = np.absolute(error)\n",
        "  # print(f'Errors of {splits} fold cross validation: {MSE}')\n",
        "  # print(f'Average error of 3-fold : {MSE.mean():.3f}')\n",
        "  # score = cross_val_score(model, X, Y, cv=KFCV, scoring='accuracy')\n",
        "  # print(f'Scores of {splits} fold cross validation: {score}')\n",
        "  # print(f'Average Accuracy of {splits}-fold : {score.mean():.3f}')\n",
        "\n",
        "\n"
      ],
      "metadata": {
        "id": "5-G6D9B3-Hnk"
      },
      "execution_count": 27,
      "outputs": []
    },
    {
      "cell_type": "markdown",
      "source": [
        "Baseline Setup"
      ],
      "metadata": {
        "id": "Q4C-1RquprYc"
      }
    },
    {
      "cell_type": "code",
      "execution_count": 28,
      "metadata": {
        "colab": {
          "base_uri": "https://localhost:8080/"
        },
        "id": "pFrb7tSZLJNF",
        "outputId": "cb515a29-f510-4c86-b0a0-a7f5cacc69e7"
      },
      "outputs": [
        {
          "output_type": "execute_result",
          "data": {
            "text/plain": [
              "0    432\n",
              "1    171\n",
              "Name: Popularity, dtype: int64"
            ]
          },
          "metadata": {},
          "execution_count": 28
        }
      ],
      "source": [
        "df = pd.read_csv(\"spotify.csv\")\n",
        "df = PreProcess(df)\n",
        "df[\"Popularity\"] = np.where(df[\"Popularity\"] > 75, 1, 0)\n",
        "df['Popularity'].value_counts()"
      ]
    },
    {
      "cell_type": "code",
      "source": [
        "X = df.iloc[:,3:-1]\n",
        "Y = df.loc[:, 'Popularity']\n",
        "\n",
        "X = ConvertYear(X)\n",
        "X_train, X_test, Y_train, Y_test = SplitDataset(X, Y)\n",
        "Norm_X_train, Norm_X_test = Normalize(X_train, X_test)"
      ],
      "metadata": {
        "colab": {
          "base_uri": "https://localhost:8080/"
        },
        "id": "mus2ar4o2Yj3",
        "outputId": "3ca06683-8c83-40fb-a55d-c587e948bdce"
      },
      "execution_count": 29,
      "outputs": [
        {
          "output_type": "stream",
          "name": "stderr",
          "text": [
            "/usr/local/lib/python3.8/dist-packages/sklearn/utils/validation.py:1688: FutureWarning: Feature names only support names that are all strings. Got feature names with dtypes: ['int', 'str']. An error will be raised in 1.2.\n",
            "  warnings.warn(\n",
            "/usr/local/lib/python3.8/dist-packages/sklearn/utils/validation.py:1688: FutureWarning: Feature names only support names that are all strings. Got feature names with dtypes: ['int', 'str']. An error will be raised in 1.2.\n",
            "  warnings.warn(\n",
            "/usr/local/lib/python3.8/dist-packages/sklearn/utils/validation.py:1688: FutureWarning: Feature names only support names that are all strings. Got feature names with dtypes: ['int', 'str']. An error will be raised in 1.2.\n",
            "  warnings.warn(\n",
            "/usr/local/lib/python3.8/dist-packages/sklearn/utils/validation.py:1688: FutureWarning: Feature names only support names that are all strings. Got feature names with dtypes: ['int', 'str']. An error will be raised in 1.2.\n",
            "  warnings.warn(\n"
          ]
        }
      ]
    },
    {
      "cell_type": "markdown",
      "source": [
        "Logistic Regression Model (Baseline):"
      ],
      "metadata": {
        "id": "wpqv8TZtkLt-"
      }
    },
    {
      "cell_type": "code",
      "execution_count": 30,
      "metadata": {
        "id": "WpKUdrk5Wgu7",
        "colab": {
          "base_uri": "https://localhost:8080/"
        },
        "outputId": "99c0b622-cfdd-4419-dadb-ddf0fdf8c7a7"
      },
      "outputs": [
        {
          "output_type": "stream",
          "name": "stderr",
          "text": [
            "/usr/local/lib/python3.8/dist-packages/sklearn/utils/validation.py:1688: FutureWarning: Feature names only support names that are all strings. Got feature names with dtypes: ['int', 'str']. An error will be raised in 1.2.\n",
            "  warnings.warn(\n",
            "/usr/local/lib/python3.8/dist-packages/sklearn/utils/validation.py:1688: FutureWarning: Feature names only support names that are all strings. Got feature names with dtypes: ['int', 'str']. An error will be raised in 1.2.\n",
            "  warnings.warn(\n",
            "/usr/local/lib/python3.8/dist-packages/sklearn/utils/validation.py:1688: FutureWarning: Feature names only support names that are all strings. Got feature names with dtypes: ['int', 'str']. An error will be raised in 1.2.\n",
            "  warnings.warn(\n"
          ]
        },
        {
          "output_type": "execute_result",
          "data": {
            "text/plain": [
              "0.7086092715231788"
            ]
          },
          "metadata": {},
          "execution_count": 30
        }
      ],
      "source": [
        "lr_model = LogisticRegression(solver='liblinear', random_state=0).fit(X_train, Y_train)\n",
        "y_pred = lr_model.predict(X_test)\n",
        "lr_model.score(X_test, Y_test)"
      ]
    },
    {
      "cell_type": "code",
      "execution_count": 31,
      "metadata": {
        "id": "gUq7RwYVWg65",
        "colab": {
          "base_uri": "https://localhost:8080/"
        },
        "outputId": "074146de-c8fe-4064-f7d7-3cb24c8f43d0"
      },
      "outputs": [
        {
          "output_type": "stream",
          "name": "stdout",
          "text": [
            "Confusion matrix:\n",
            "[[101   6]\n",
            " [ 38   6]]\n",
            "Classification Report:\n",
            "              precision    recall  f1-score   support\n",
            "\n",
            "           0       0.73      0.94      0.82       107\n",
            "           1       0.50      0.14      0.21        44\n",
            "\n",
            "    accuracy                           0.71       151\n",
            "   macro avg       0.61      0.54      0.52       151\n",
            "weighted avg       0.66      0.71      0.64       151\n",
            "\n"
          ]
        }
      ],
      "source": [
        "cm = confusion_matrix(Y_test, y_pred)\n",
        "print(f'Confusion matrix:\\n{cm}')\n",
        "print(f'Classification Report:\\n{classification_report(Y_test, y_pred)}')"
      ]
    },
    {
      "cell_type": "markdown",
      "source": [
        "Decision Tree Classifier:"
      ],
      "metadata": {
        "id": "f8dMbxt1WhBK"
      }
    },
    {
      "cell_type": "code",
      "source": [
        "dt_model = DecisionTreeClassifier(random_state=0, max_depth=4, criterion='gini')\n",
        "decision_tree = dt_model.fit(Norm_X_train, Y_train)\n",
        "y_pred = dt_model.predict(Norm_X_test)\n",
        "dt_model.score(Norm_X_test, Y_test)"
      ],
      "metadata": {
        "colab": {
          "base_uri": "https://localhost:8080/"
        },
        "id": "mRAbrquxkRvo",
        "outputId": "f54a1792-e140-4773-b4e8-202929ec9221"
      },
      "execution_count": 32,
      "outputs": [
        {
          "output_type": "execute_result",
          "data": {
            "text/plain": [
              "0.6158940397350994"
            ]
          },
          "metadata": {},
          "execution_count": 32
        }
      ]
    },
    {
      "cell_type": "code",
      "source": [
        "cm = confusion_matrix(Y_test, y_pred)\n",
        "print(f'Confusion matrix:\\n{cm}')\n",
        "print(f'Classification Report:\\n{classification_report(Y_test, y_pred)}')"
      ],
      "metadata": {
        "colab": {
          "base_uri": "https://localhost:8080/"
        },
        "id": "_QyoXWEdkR3x",
        "outputId": "71e6a02c-018a-4c69-f1e5-e3050fe490ba"
      },
      "execution_count": 33,
      "outputs": [
        {
          "output_type": "stream",
          "name": "stdout",
          "text": [
            "Confusion matrix:\n",
            "[[77 30]\n",
            " [28 16]]\n",
            "Classification Report:\n",
            "              precision    recall  f1-score   support\n",
            "\n",
            "           0       0.73      0.72      0.73       107\n",
            "           1       0.35      0.36      0.36        44\n",
            "\n",
            "    accuracy                           0.62       151\n",
            "   macro avg       0.54      0.54      0.54       151\n",
            "weighted avg       0.62      0.62      0.62       151\n",
            "\n"
          ]
        }
      ]
    },
    {
      "cell_type": "markdown",
      "source": [
        "Hyperparameter Tuning for Decision Tree"
      ],
      "metadata": {
        "id": "J-7z-Dbrp8Rq"
      }
    },
    {
      "cell_type": "code",
      "source": [
        "scaler = MinMaxScaler()\n",
        "minmax_df = scaler.fit_transform(X)\n",
        "Norm_X = pd.DataFrame(minmax_df)\n",
        "LOO(Norm_X, Y, dt_model)\n",
        "StratifiedCV(Norm_X, Y, dt_model, 10)"
      ],
      "metadata": {
        "colab": {
          "base_uri": "https://localhost:8080/"
        },
        "id": "sWgG1dbu-Hw8",
        "outputId": "9000976b-9989-450d-80d4-582fcc100e15"
      },
      "execution_count": 34,
      "outputs": [
        {
          "output_type": "stream",
          "name": "stderr",
          "text": [
            "/usr/local/lib/python3.8/dist-packages/sklearn/utils/validation.py:1688: FutureWarning: Feature names only support names that are all strings. Got feature names with dtypes: ['int', 'str']. An error will be raised in 1.2.\n",
            "  warnings.warn(\n",
            "/usr/local/lib/python3.8/dist-packages/sklearn/utils/validation.py:1688: FutureWarning: Feature names only support names that are all strings. Got feature names with dtypes: ['int', 'str']. An error will be raised in 1.2.\n",
            "  warnings.warn(\n"
          ]
        },
        {
          "output_type": "stream",
          "name": "stdout",
          "text": [
            "For LOOCV:\n",
            "Avg Precision: 0.6832504145936982\n",
            "Avg Recall: 0.6832504145936982\n",
            "Avg F1_Score: 0.6832504145936982\n",
            "Average Accuracy of LOOCV : 0.6832504145936982\n",
            "For 10-Fold:\n",
            "Avg Accuracy of 10-fold: 0.5454098360655737\n",
            "Avg Precision: 0.5454098360655737\n",
            "Avg Recall: 0.5454098360655737\n",
            "Avg F1_Score: 0.5454098360655737\n"
          ]
        }
      ]
    },
    {
      "cell_type": "code",
      "source": [
        "params = {\n",
        "  'criterion':['gini','entropy'],\n",
        "  'max_depth':[4,5,6,7,8,9,10,11,12,15,20,30,40,50,70,90,120,150]\n",
        "}\n",
        "clf = GridSearchCV(dt_model, param_grid=params, cv=5)\n",
        "clf.fit(Norm_X, Y)\n",
        "print(f'Best Parameters: {clf.best_params_}')\n",
        "print(f'Best Score: {clf.best_score_}')"
      ],
      "metadata": {
        "colab": {
          "base_uri": "https://localhost:8080/"
        },
        "id": "TVvbCFJnFDn8",
        "outputId": "646fb23e-2506-46c0-fb16-3e627c8d52ea"
      },
      "execution_count": 35,
      "outputs": [
        {
          "output_type": "stream",
          "name": "stdout",
          "text": [
            "Best Parameters: {'criterion': 'gini', 'max_depth': 4}\n",
            "Best Score: 0.35801652892561986\n"
          ]
        }
      ]
    },
    {
      "cell_type": "markdown",
      "source": [
        "Random Forest Classifier:"
      ],
      "metadata": {
        "id": "qd_vOZj5kSH3"
      }
    },
    {
      "cell_type": "code",
      "source": [
        "rf_model = RandomForestClassifier(n_jobs=-1, max_features= 'auto', n_estimators=20, oob_score=True)\n",
        "rf_model.fit(Norm_X_train, Y_train)\n",
        "y_pred = rf_model.predict(Norm_X_test)\n",
        "print(rf_model.score(Norm_X_test, Y_test))\n",
        "print(rf_model.oob_score_)\n"
      ],
      "metadata": {
        "id": "UmAgT3sfkSPI",
        "colab": {
          "base_uri": "https://localhost:8080/"
        },
        "outputId": "e036aac6-1e2b-4df9-edf8-49f442fb07ee"
      },
      "execution_count": 36,
      "outputs": [
        {
          "output_type": "stream",
          "name": "stdout",
          "text": [
            "0.6887417218543046\n",
            "0.7256637168141593\n"
          ]
        }
      ]
    },
    {
      "cell_type": "code",
      "source": [
        "cm = confusion_matrix(Y_test, y_pred)\n",
        "print(f'Confusion matrix:\\n{cm}')\n",
        "print(f'Classification Report:\\n{classification_report(Y_test, y_pred)}')"
      ],
      "metadata": {
        "id": "QYj9wWRpkSW5",
        "colab": {
          "base_uri": "https://localhost:8080/"
        },
        "outputId": "3b84494a-6422-49cc-f019-32dd085b340a"
      },
      "execution_count": 37,
      "outputs": [
        {
          "output_type": "stream",
          "name": "stdout",
          "text": [
            "Confusion matrix:\n",
            "[[98  9]\n",
            " [38  6]]\n",
            "Classification Report:\n",
            "              precision    recall  f1-score   support\n",
            "\n",
            "           0       0.72      0.92      0.81       107\n",
            "           1       0.40      0.14      0.20        44\n",
            "\n",
            "    accuracy                           0.69       151\n",
            "   macro avg       0.56      0.53      0.50       151\n",
            "weighted avg       0.63      0.69      0.63       151\n",
            "\n"
          ]
        }
      ]
    },
    {
      "cell_type": "markdown",
      "source": [
        "Hyperparameter tuning for Random Forest Classifier"
      ],
      "metadata": {
        "id": "Z3QXQ8JS3bft"
      }
    },
    {
      "cell_type": "code",
      "source": [
        "scaler = MinMaxScaler()\n",
        "minmax_df = scaler.fit_transform(X)\n",
        "Norm_X = pd.DataFrame(minmax_df)\n",
        "LOO(Norm_X, Y, dt_model)\n",
        "StratifiedCV(Norm_X, Y, rf_model, 10)"
      ],
      "metadata": {
        "id": "KxML13oFD52Z",
        "colab": {
          "base_uri": "https://localhost:8080/"
        },
        "outputId": "9a87810f-4ca3-4ec4-bf78-8fe5e5591cbc"
      },
      "execution_count": 38,
      "outputs": [
        {
          "output_type": "stream",
          "name": "stderr",
          "text": [
            "/usr/local/lib/python3.8/dist-packages/sklearn/utils/validation.py:1688: FutureWarning: Feature names only support names that are all strings. Got feature names with dtypes: ['int', 'str']. An error will be raised in 1.2.\n",
            "  warnings.warn(\n",
            "/usr/local/lib/python3.8/dist-packages/sklearn/utils/validation.py:1688: FutureWarning: Feature names only support names that are all strings. Got feature names with dtypes: ['int', 'str']. An error will be raised in 1.2.\n",
            "  warnings.warn(\n"
          ]
        },
        {
          "output_type": "stream",
          "name": "stdout",
          "text": [
            "For LOOCV:\n",
            "Avg Precision: 0.6832504145936982\n",
            "Avg Recall: 0.6832504145936982\n",
            "Avg F1_Score: 0.6832504145936982\n",
            "Average Accuracy of LOOCV : 0.6832504145936982\n",
            "For 10-Fold:\n"
          ]
        },
        {
          "output_type": "stream",
          "name": "stderr",
          "text": [
            "/usr/local/lib/python3.8/dist-packages/sklearn/ensemble/_forest.py:560: UserWarning: Some inputs do not have OOB scores. This probably means too few trees were used to compute any reliable OOB estimates.\n",
            "  warn(\n"
          ]
        },
        {
          "output_type": "stream",
          "name": "stdout",
          "text": [
            "Avg Accuracy of 10-fold: 0.5768306010928962\n",
            "Avg Precision: 0.5768306010928962\n",
            "Avg Recall: 0.5768306010928962\n",
            "Avg F1_Score: 0.5768306010928962\n"
          ]
        }
      ]
    },
    {
      "cell_type": "code",
      "source": [
        "scaler = MinMaxScaler()\n",
        "minmax_df = scaler.fit_transform(X)\n",
        "X = pd.DataFrame(minmax_df)\n",
        "param_grid = { \n",
        "    'n_estimators': [20, 50, 100, 500, 700],\n",
        "    'max_features': ['auto', 'sqrt', 'log2']\n",
        "}\n",
        "rfc = RandomForestClassifier(n_jobs=-1, max_features= 'sqrt' ,n_estimators=50) \n",
        "CV_rfc = GridSearchCV(estimator=rfc, param_grid=param_grid, cv= 5, scoring='recall')\n",
        "CV_rfc.fit(X, Y)\n",
        "CV_rfc.best_params_"
      ],
      "metadata": {
        "id": "u-ovKr3j30a_",
        "colab": {
          "base_uri": "https://localhost:8080/"
        },
        "outputId": "8a175f0d-c0a3-49a2-c6fb-e80764f8ae1a"
      },
      "execution_count": 39,
      "outputs": [
        {
          "output_type": "stream",
          "name": "stderr",
          "text": [
            "/usr/local/lib/python3.8/dist-packages/sklearn/utils/validation.py:1688: FutureWarning: Feature names only support names that are all strings. Got feature names with dtypes: ['int', 'str']. An error will be raised in 1.2.\n",
            "  warnings.warn(\n",
            "/usr/local/lib/python3.8/dist-packages/sklearn/utils/validation.py:1688: FutureWarning: Feature names only support names that are all strings. Got feature names with dtypes: ['int', 'str']. An error will be raised in 1.2.\n",
            "  warnings.warn(\n"
          ]
        },
        {
          "output_type": "execute_result",
          "data": {
            "text/plain": [
              "{'max_features': 'auto', 'n_estimators': 50}"
            ]
          },
          "metadata": {},
          "execution_count": 39
        }
      ]
    },
    {
      "cell_type": "code",
      "source": [
        "m_best = CV_rfc.best_estimator_\n",
        "print(m_best)"
      ],
      "metadata": {
        "id": "DNw-zXIJaM8Z",
        "colab": {
          "base_uri": "https://localhost:8080/"
        },
        "outputId": "62016da2-497a-49e1-baa4-c1e8d0dc190b"
      },
      "execution_count": 40,
      "outputs": [
        {
          "output_type": "stream",
          "name": "stdout",
          "text": [
            "RandomForestClassifier(n_estimators=50, n_jobs=-1)\n"
          ]
        }
      ]
    },
    {
      "cell_type": "code",
      "source": [
        "from sklearn.metrics import precision_score, recall_score, f1_score\n",
        "\n",
        "y_pred = m_best.predict(Norm_X_test)\n",
        "print(precision_score(Y_test, y_pred))\n",
        "print(recall_score(Y_test, y_pred))\n",
        "print(f1_score(Y_test, y_pred))\n"
      ],
      "metadata": {
        "id": "njOltdvFaTlJ",
        "colab": {
          "base_uri": "https://localhost:8080/"
        },
        "outputId": "5ca9915a-65a4-48ab-eb3d-8a5c1747177c"
      },
      "execution_count": 41,
      "outputs": [
        {
          "output_type": "stream",
          "name": "stdout",
          "text": [
            "0.8571428571428571\n",
            "0.2727272727272727\n",
            "0.41379310344827586\n"
          ]
        }
      ]
    },
    {
      "cell_type": "markdown",
      "source": [
        "SVM Classifier:"
      ],
      "metadata": {
        "id": "s5uPZhKE30iK"
      }
    },
    {
      "cell_type": "code",
      "source": [
        "C = [0.1, 0.2, 0.3, 1, 5, 10, 20, 100, 200, 1000]\n",
        "degree = [1, 2, 3, 4, 5]\n",
        "coef0 = [0.0001, 0.001, 0.002, 0.01, 0.02, 0.1, 0.2, 0.3, 1, 2, 5, 10]\n",
        "gamma = [0.0001, 0.001, 0.002, 0.01, 0.02, 0.03, 0.1, 0.2, 1, 2, 3]"
      ],
      "metadata": {
        "id": "ynUgIm8ffaz1"
      },
      "execution_count": 42,
      "outputs": []
    },
    {
      "cell_type": "code",
      "source": [
        "param_grid = {'C': C, \n",
        "              'gamma': gamma,\n",
        "              'kernel': ['rbf']} \n",
        "  \n",
        "grid = GridSearchCV(SVC(), param_grid, refit = True, verbose = 1)\n",
        "grid.fit(Norm_X_train, Y_train)\n",
        "print(f'Best Paramaters: {grid.best_params_}')\n",
        "y_pred = grid.predict(Norm_X_test)\n",
        "print(f'Classification Report: \\n{classification_report(Y_test, y_pred)}')"
      ],
      "metadata": {
        "id": "OLpQ34LQd65-",
        "colab": {
          "base_uri": "https://localhost:8080/"
        },
        "outputId": "d2fbfa28-8567-4b2c-f0aa-8ddac92320fd"
      },
      "execution_count": 43,
      "outputs": [
        {
          "output_type": "stream",
          "name": "stdout",
          "text": [
            "Fitting 5 folds for each of 110 candidates, totalling 550 fits\n",
            "Best Paramaters: {'C': 0.2, 'gamma': 1, 'kernel': 'rbf'}\n",
            "Classification Report: \n",
            "              precision    recall  f1-score   support\n",
            "\n",
            "           0       0.72      0.99      0.83       107\n",
            "           1       0.75      0.07      0.12        44\n",
            "\n",
            "    accuracy                           0.72       151\n",
            "   macro avg       0.74      0.53      0.48       151\n",
            "weighted avg       0.73      0.72      0.63       151\n",
            "\n"
          ]
        }
      ]
    },
    {
      "cell_type": "markdown",
      "source": [
        "Feature Reduction Approach using KNN"
      ],
      "metadata": {
        "id": "xIeEa17jfZ4_"
      }
    },
    {
      "cell_type": "code",
      "source": [
        "df = pd.read_csv('spotify.csv')\n",
        "df = PreProcess(df)\n",
        "df[\"Popularity\"] = pd.cut(x=df['Popularity'], bins = [-1, 50, 75, 99], labels =[0, 1, 2])\n",
        "print(f'Popularity Count: {df[\"Popularity\"].value_counts()}')\n",
        "X = df.iloc[:,3:-1]\n",
        "Y = df.loc[:, 'Popularity']\n",
        "X = ConvertYear(X)\n",
        "X_train, X_test, Y_train, Y_test = SplitDataset(X, Y)\n",
        "Norm_X_train, Norm_X_test = Normalize(X_train, X_test)"
      ],
      "metadata": {
        "id": "cKvBL9Whha7C",
        "colab": {
          "base_uri": "https://localhost:8080/"
        },
        "outputId": "fcee2448-4679-4182-eb3c-e36171410870"
      },
      "execution_count": 44,
      "outputs": [
        {
          "output_type": "stream",
          "name": "stdout",
          "text": [
            "Popularity Count: 1    362\n",
            "2    171\n",
            "0     70\n",
            "Name: Popularity, dtype: int64\n"
          ]
        },
        {
          "output_type": "stream",
          "name": "stderr",
          "text": [
            "/usr/local/lib/python3.8/dist-packages/sklearn/utils/validation.py:1688: FutureWarning: Feature names only support names that are all strings. Got feature names with dtypes: ['int', 'str']. An error will be raised in 1.2.\n",
            "  warnings.warn(\n",
            "/usr/local/lib/python3.8/dist-packages/sklearn/utils/validation.py:1688: FutureWarning: Feature names only support names that are all strings. Got feature names with dtypes: ['int', 'str']. An error will be raised in 1.2.\n",
            "  warnings.warn(\n",
            "/usr/local/lib/python3.8/dist-packages/sklearn/utils/validation.py:1688: FutureWarning: Feature names only support names that are all strings. Got feature names with dtypes: ['int', 'str']. An error will be raised in 1.2.\n",
            "  warnings.warn(\n",
            "/usr/local/lib/python3.8/dist-packages/sklearn/utils/validation.py:1688: FutureWarning: Feature names only support names that are all strings. Got feature names with dtypes: ['int', 'str']. An error will be raised in 1.2.\n",
            "  warnings.warn(\n"
          ]
        }
      ]
    },
    {
      "cell_type": "code",
      "source": [
        "from sklearn.neighbors import KNeighborsClassifier\n",
        "from sklearn.model_selection import train_test_split\n",
        "import matplotlib.pyplot as plt\n",
        "  \n",
        "def KNN(df):  \n",
        "  X = df.iloc[:, 4:]\n",
        "  print(X.shape)\n",
        "  Y = df.loc[:, 'Popularity']\n",
        "  print(Y.shape)\n",
        "  # Split into training and test set\n",
        "  X_train, X_test, y_train, y_test = train_test_split(\n",
        "              X, Y, test_size = 0.2, random_state=42)\n",
        "    \n",
        "  neighbors = np.arange(1, 5)\n",
        "  train_accuracy = np.empty(len(neighbors))\n",
        "  test_accuracy = np.empty(len(neighbors))\n",
        "    \n",
        "  # Loop over K values\n",
        "  for i, k in enumerate(neighbors):\n",
        "      knn = KNeighborsClassifier(n_neighbors=k)\n",
        "      knn.fit(X_train, y_train)\n",
        "      print(f'Train: {knn.score(X_train, y_train)}')\n",
        "      print(f'Test: {knn.score(X_test, y_test)}')\n",
        "\n",
        "        \n",
        "      # Compute training and test data accuracy\n",
        "      train_accuracy[i] = knn.score(X_train, y_train)\n",
        "      test_accuracy[i] = knn.score(X_test, y_test)\n",
        "      print(knn.kneighbors(X, return_distance=False))\n",
        "    \n",
        "  # Generate plot\n",
        "  plt.plot(neighbors, test_accuracy, label = 'Testing dataset Accuracy')\n",
        "  plt.plot(neighbors, train_accuracy, label = 'Training dataset Accuracy')\n",
        "    \n",
        "  plt.legend()\n",
        "  plt.xlabel('n_neighbors')\n",
        "  plt.ylabel('Accuracy')\n",
        "  plt.show()"
      ],
      "metadata": {
        "id": "UEmu1saGp5s_"
      },
      "execution_count": 45,
      "outputs": []
    },
    {
      "cell_type": "code",
      "source": [
        "year_wise_df = {}\n",
        "for i in range(2010, 2019):\n",
        "  df_year = df[df['year'] == i]\n",
        "  year_wise_df[i] = df_year\n",
        "\n",
        "for key,val in year_wise_df.items():\n",
        "  print(f'For year: {key}')\n",
        "  print(f'{val[\"Popularity\"].value_counts()}')\n",
        "  new_df = val[val['Popularity'] == 2]\n",
        "  print(new_df)\n",
        "  KNN(new_df)\n",
        "  break"
      ],
      "metadata": {
        "id": "nRlHagIqfb9a",
        "colab": {
          "base_uri": "https://localhost:8080/",
          "height": 1000
        },
        "outputId": "2f5fdb8f-80f2-4742-8127-8d59ec596ba7"
      },
      "execution_count": 46,
      "outputs": [
        {
          "output_type": "stream",
          "name": "stdout",
          "text": [
            "For year: 2010\n",
            "1    39\n",
            "2     9\n",
            "0     3\n",
            "Name: Popularity, dtype: int64\n",
            "                                        title         artist            genre  \\\n",
            "0                            Hey, Soul Sister          Train       neo mellow   \n",
            "1                        Love The Way You Lie         Eminem  detroit hip hop   \n",
            "2                                     TiK ToK          Kesha        dance pop   \n",
            "3                                 Bad Romance      Lady Gaga        dance pop   \n",
            "4                        Just the Way You Are     Bruno Mars              pop   \n",
            "5                                        Baby  Justin Bieber     canadian pop   \n",
            "6                                    Dynamite      Taio Cruz        dance pop   \n",
            "7                                     Secrets    OneRepublic        dance pop   \n",
            "8  Empire State of Mind (Part II) Broken Down    Alicia Keys          hip pop   \n",
            "\n",
            "   year  BPM  Energy  Danceability  Loudness  Liveness  Valence  Length  \\\n",
            "0  2010   97      89            67        -4         8       80     217   \n",
            "1  2010   87      93            75        -5        52       64     263   \n",
            "2  2010  120      84            76        -3        29       71     200   \n",
            "3  2010  119      92            70        -4         8       71     295   \n",
            "4  2010  109      84            64        -5         9       43     221   \n",
            "5  2010   65      86            73        -5        11       54     214   \n",
            "6  2010  120      78            75        -4         4       82     203   \n",
            "7  2010  148      76            52        -6        12       38     225   \n",
            "8  2010   93      37            48        -8        12       14     216   \n",
            "\n",
            "   Acousticness  Speechiness Popularity  \n",
            "0            19            4          2  \n",
            "1            24           23          2  \n",
            "2            10           14          2  \n",
            "3             0            4          2  \n",
            "4             2            4          2  \n",
            "5             4           14          2  \n",
            "6             0            9          2  \n",
            "7             7            4          2  \n",
            "8            74            3          2  \n",
            "(9, 10)\n",
            "(9,)\n",
            "Train: 1.0\n",
            "Test: 1.0\n",
            "[[1]\n",
            " [1]\n",
            " [3]\n",
            " [5]\n",
            " [4]\n",
            " [0]\n",
            " [6]\n",
            " [4]\n",
            " [2]]\n",
            "Train: 1.0\n",
            "Test: 1.0\n",
            "[[1 6]\n",
            " [1 5]\n",
            " [3 6]\n",
            " [5 4]\n",
            " [4 1]\n",
            " [0 1]\n",
            " [6 3]\n",
            " [4 3]\n",
            " [2 4]]\n",
            "Train: 1.0\n",
            "Test: 1.0\n",
            "[[1 6 3]\n",
            " [1 5 0]\n",
            " [3 6 1]\n",
            " [5 4 1]\n",
            " [4 1 3]\n",
            " [0 1 4]\n",
            " [6 3 1]\n",
            " [4 3 6]\n",
            " [2 4 0]]\n",
            "Train: 1.0\n",
            "Test: 1.0\n",
            "[[1 6 3 4]\n",
            " [1 5 0 4]\n",
            " [3 6 1 4]\n",
            " [5 4 1 6]\n",
            " [4 1 3 6]\n",
            " [0 1 4 3]\n",
            " [6 3 1 4]\n",
            " [4 3 6 1]\n",
            " [2 4 0 1]]\n"
          ]
        },
        {
          "output_type": "display_data",
          "data": {
            "text/plain": [
              "<Figure size 432x288 with 1 Axes>"
            ],
            "image/png": "[encoded data removed]"
          },
          "metadata": {
            "needs_background": "light"
          }
        }
      ]
    },
    {
      "cell_type": "code",
      "source": [
        "df_2010 = year_wise_df[2010]\n",
        "new_df = df_2010[df_2010['Popularity'] == 2]\n",
        "temp_df = new_df.iloc[[1,3,4,6], :]\n",
        "temp_df"
      ],
      "metadata": {
        "id": "8szbnpPjkSf_",
        "colab": {
          "base_uri": "https://localhost:8080/",
          "height": 288
        },
        "outputId": "fb8c33a4-db13-4641-c1a9-47bf5b328c0b"
      },
      "execution_count": 47,
      "outputs": [
        {
          "output_type": "execute_result",
          "data": {
            "text/plain": [
              "                  title      artist            genre  year  BPM  Energy  \\\n",
              "1  Love The Way You Lie      Eminem  detroit hip hop  2010   87      93   \n",
              "3           Bad Romance   Lady Gaga        dance pop  2010  119      92   \n",
              "4  Just the Way You Are  Bruno Mars              pop  2010  109      84   \n",
              "6              Dynamite   Taio Cruz        dance pop  2010  120      78   \n",
              "\n",
              "   Danceability  Loudness  Liveness  Valence  Length  Acousticness  \\\n",
              "1            75        -5        52       64     263            24   \n",
              "3            70        -4         8       71     295             0   \n",
              "4            64        -5         9       43     221             2   \n",
              "6            75        -4         4       82     203             0   \n",
              "\n",
              "   Speechiness Popularity  \n",
              "1           23          2  \n",
              "3            4          2  \n",
              "4            4          2  \n",
              "6            9          2  "
            ],
            "text/html": [
              "\n",
              "  <div id=\"df-c1cf2d0c-4043-4b46-8345-d22bb00fcca7\">\n",
              "    <div class=\"colab-df-container\">\n",
              "      <div>\n",
              "<style scoped>\n",
              "    .dataframe tbody tr th:only-of-type {\n",
              "        vertical-align: middle;\n",
              "    }\n",
              "\n",
              "    .dataframe tbody tr th {\n",
              "        vertical-align: top;\n",
              "    }\n",
              "\n",
              "    .dataframe thead th {\n",
              "        text-align: right;\n",
              "    }\n",
              "</style>\n",
              "<table border=\"1\" class=\"dataframe\">\n",
              "  <thead>\n",
              "    <tr style=\"text-align: right;\">\n",
              "      <th></th>\n",
              "      <th>title</th>\n",
              "      <th>artist</th>\n",
              "      <th>genre</th>\n",
              "      <th>year</th>\n",
              "      <th>BPM</th>\n",
              "      <th>Energy</th>\n",
              "      <th>Danceability</th>\n",
              "      <th>Loudness</th>\n",
              "      <th>Liveness</th>\n",
              "      <th>Valence</th>\n",
              "      <th>Length</th>\n",
              "      <th>Acousticness</th>\n",
              "      <th>Speechiness</th>\n",
              "      <th>Popularity</th>\n",
              "    </tr>\n",
              "  </thead>\n",
              "  <tbody>\n",
              "    <tr>\n",
              "      <th>1</th>\n",
              "      <td>Love The Way You Lie</td>\n",
              "      <td>Eminem</td>\n",
              "      <td>detroit hip hop</td>\n",
              "      <td>2010</td>\n",
              "      <td>87</td>\n",
              "      <td>93</td>\n",
              "      <td>75</td>\n",
              "      <td>-5</td>\n",
              "      <td>52</td>\n",
              "      <td>64</td>\n",
              "      <td>263</td>\n",
              "      <td>24</td>\n",
              "      <td>23</td>\n",
              "      <td>2</td>\n",
              "    </tr>\n",
              "    <tr>\n",
              "      <th>3</th>\n",
              "      <td>Bad Romance</td>\n",
              "      <td>Lady Gaga</td>\n",
              "      <td>dance pop</td>\n",
              "      <td>2010</td>\n",
              "      <td>119</td>\n",
              "      <td>92</td>\n",
              "      <td>70</td>\n",
              "      <td>-4</td>\n",
              "      <td>8</td>\n",
              "      <td>71</td>\n",
              "      <td>295</td>\n",
              "      <td>0</td>\n",
              "      <td>4</td>\n",
              "      <td>2</td>\n",
              "    </tr>\n",
              "    <tr>\n",
              "      <th>4</th>\n",
              "      <td>Just the Way You Are</td>\n",
              "      <td>Bruno Mars</td>\n",
              "      <td>pop</td>\n",
              "      <td>2010</td>\n",
              "      <td>109</td>\n",
              "      <td>84</td>\n",
              "      <td>64</td>\n",
              "      <td>-5</td>\n",
              "      <td>9</td>\n",
              "      <td>43</td>\n",
              "      <td>221</td>\n",
              "      <td>2</td>\n",
              "      <td>4</td>\n",
              "      <td>2</td>\n",
              "    </tr>\n",
              "    <tr>\n",
              "      <th>6</th>\n",
              "      <td>Dynamite</td>\n",
              "      <td>Taio Cruz</td>\n",
              "      <td>dance pop</td>\n",
              "      <td>2010</td>\n",
              "      <td>120</td>\n",
              "      <td>78</td>\n",
              "      <td>75</td>\n",
              "      <td>-4</td>\n",
              "      <td>4</td>\n",
              "      <td>82</td>\n",
              "      <td>203</td>\n",
              "      <td>0</td>\n",
              "      <td>9</td>\n",
              "      <td>2</td>\n",
              "    </tr>\n",
              "  </tbody>\n",
              "</table>\n",
              "</div>\n",
              "      <button class=\"colab-df-convert\" onclick=\"convertToInteractive('df-c1cf2d0c-4043-4b46-8345-d22bb00fcca7')\"\n",
              "              title=\"Convert this dataframe to an interactive table.\"\n",
              "              style=\"display:none;\">\n",
              "        \n",
              "  <svg xmlns=\"http://www.w3.org/2000/svg\" height=\"24px\"viewBox=\"0 0 24 24\"\n",
              "       width=\"24px\">\n",
              "    <path d=\"M0 0h24v24H0V0z\" fill=\"none\"/>\n",
              "    <path d=\"M18.56 5.44l.94 2.06.94-2.06 2.06-.94-2.06-.94-.94-2.06-.94 2.06-2.06.94zm-11 1L8.5 8.5l.94-2.06 2.06-.94-2.06-.94L8.5 2.5l-.94 2.06-2.06.94zm10 10l.94 2.06.94-2.06 2.06-.94-2.06-.94-.94-2.06-.94 2.06-2.06.94z\"/><path d=\"M17.41 7.96l-1.37-1.37c-.4-.4-.92-.59-1.43-.59-.52 0-1.04.2-1.43.59L10.3 9.45l-7.72 7.72c-.78.78-.78 2.05 0 2.83L4 21.41c.39.39.9.59 1.41.59.51 0 1.02-.2 1.41-.59l7.78-7.78 2.81-2.81c.8-.78.8-2.07 0-2.86zM5.41 20L4 18.59l7.72-7.72 1.47 1.35L5.41 20z\"/>\n",
              "  </svg>\n",
              "      </button>\n",
              "      \n",
              "  <style>\n",
              "    .colab-df-container {\n",
              "      display:flex;\n",
              "      flex-wrap:wrap;\n",
              "      gap: 12px;\n",
              "    }\n",
              "\n",
              "    .colab-df-convert {\n",
              "      background-color: #E8F0FE;\n",
              "      border: none;\n",
              "      border-radius: 50%;\n",
              "      cursor: pointer;\n",
              "      display: none;\n",
              "      fill: #1967D2;\n",
              "      height: 32px;\n",
              "      padding: 0 0 0 0;\n",
              "      width: 32px;\n",
              "    }\n",
              "\n",
              "    .colab-df-convert:hover {\n",
              "      background-color: #E2EBFA;\n",
              "      box-shadow: 0px 1px 2px rgba(60, 64, 67, 0.3), 0px 1px 3px 1px rgba(60, 64, 67, 0.15);\n",
              "      fill: #174EA6;\n",
              "    }\n",
              "\n",
              "    [theme=dark] .colab-df-convert {\n",
              "      background-color: #3B4455;\n",
              "      fill: #D2E3FC;\n",
              "    }\n",
              "\n",
              "    [theme=dark] .colab-df-convert:hover {\n",
              "      background-color: #434B5C;\n",
              "      box-shadow: 0px 1px 3px 1px rgba(0, 0, 0, 0.15);\n",
              "      filter: drop-shadow(0px 1px 2px rgba(0, 0, 0, 0.3));\n",
              "      fill: #FFFFFF;\n",
              "    }\n",
              "  </style>\n",
              "\n",
              "      <script>\n",
              "        const buttonEl =\n",
              "          document.querySelector('#df-c1cf2d0c-4043-4b46-8345-d22bb00fcca7 button.colab-df-convert');\n",
              "        buttonEl.style.display =\n",
              "          google.colab.kernel.accessAllowed ? 'block' : 'none';\n",
              "\n",
              "        async function convertToInteractive(key) {\n",
              "          const element = document.querySelector('#df-c1cf2d0c-4043-4b46-8345-d22bb00fcca7');\n",
              "          const dataTable =\n",
              "            await google.colab.kernel.invokeFunction('convertToInteractive',\n",
              "                                                     [key], {});\n",
              "          if (!dataTable) return;\n",
              "\n",
              "          const docLinkHtml = 'Like what you see? Visit the ' +\n",
              "            '<a target=\"_blank\" href=https://colab.research.google.com/notebooks/data_table.ipynb>data table notebook</a>'\n",
              "            + ' to learn more about interactive tables.';\n",
              "          element.innerHTML = '';\n",
              "          dataTable['output_type'] = 'display_data';\n",
              "          await google.colab.output.renderOutput(dataTable, element);\n",
              "          const docLink = document.createElement('div');\n",
              "          docLink.innerHTML = docLinkHtml;\n",
              "          element.appendChild(docLink);\n",
              "        }\n",
              "      </script>\n",
              "    </div>\n",
              "  </div>\n",
              "  "
            ]
          },
          "metadata": {},
          "execution_count": 47
        }
      ]
    },
    {
      "cell_type": "code",
      "source": [
        "plt.subplots(figsize=(10,10))\n",
        "sns.heatmap(temp_df.corr(), cmap=sns.color_palette(\"coolwarm\", 15), annot=True, square=True, cbar=True, cbar_kws=dict(shrink=.6))"
      ],
      "metadata": {
        "id": "2-PLepfUewcF",
        "colab": {
          "base_uri": "https://localhost:8080/",
          "height": 567
        },
        "outputId": "f73c4c4b-b9fe-4dd9-e21e-14391ed8ae01"
      },
      "execution_count": 48,
      "outputs": [
        {
          "output_type": "execute_result",
          "data": {
            "text/plain": [
              "<matplotlib.axes._subplots.AxesSubplot at 0x7fee270546a0>"
            ]
          },
          "metadata": {},
          "execution_count": 48
        },
        {
          "output_type": "display_data",
          "data": {
            "text/plain": [
              "<Figure size 720x720 with 2 Axes>"
            ],
            "image/png": "[encoded data removed]"
          },
          "metadata": {
            "needs_background": "light"
          }
        }
      ]
    },
    {
      "cell_type": "code",
      "source": [
        "df = pd.read_csv('spotify.csv')\n",
        "df = PreProcess(df)\n",
        "df_2010 = df[df['year'] == 2010]\n",
        "df_2010_pop = df_2010[df_2010['Popularity'] > 70]\n",
        "plt.subplots(figsize=(10,10))\n",
        "sns.heatmap(df_2010_pop.corr(), cmap=sns.color_palette(\"coolwarm\", 15), annot=True, square=True, cbar=True, cbar_kws=dict(shrink=.6))"
      ],
      "metadata": {
        "id": "5lV6rHKYcVph",
        "colab": {
          "base_uri": "https://localhost:8080/",
          "height": 567
        },
        "outputId": "c9e3a690-af6c-4070-9e87-c7c1e1b0823b"
      },
      "execution_count": 49,
      "outputs": [
        {
          "output_type": "execute_result",
          "data": {
            "text/plain": [
              "<matplotlib.axes._subplots.AxesSubplot at 0x7fee2069da30>"
            ]
          },
          "metadata": {},
          "execution_count": 49
        },
        {
          "output_type": "display_data",
          "data": {
            "text/plain": [
              "<Figure size 720x720 with 2 Axes>"
            ],
            "image/png": "[encoded data removed]"
          },
          "metadata": {
            "needs_background": "light"
          }
        }
      ]
    },
    {
      "cell_type": "markdown",
      "source": [
        "Use of condensed dataset for classification"
      ],
      "metadata": {
        "id": "Arq0lkuYuDSg"
      }
    },
    {
      "cell_type": "code",
      "source": [
        "df_2010[\"Popularity\"] = np.where(df_2010[\"Popularity\"] > 70, 1, 0)\n",
        "X = df_2010.loc[:, ['BPM', 'Energy', 'Loudness']]\n",
        "Y = df_2010.loc[:, 'Popularity']\n",
        "print(f'{df_2010.shape}')\n",
        "print(f'{Y.shape}')"
      ],
      "metadata": {
        "id": "RleEHt6NkMSC",
        "colab": {
          "base_uri": "https://localhost:8080/"
        },
        "outputId": "21147192-43f8-4e1a-d37b-0bf064a93e46"
      },
      "execution_count": 50,
      "outputs": [
        {
          "output_type": "stream",
          "name": "stdout",
          "text": [
            "(51, 14)\n",
            "(51,)\n"
          ]
        },
        {
          "output_type": "stream",
          "name": "stderr",
          "text": [
            "<ipython-input-50-3951d783df5a>:1: SettingWithCopyWarning: \n",
            "A value is trying to be set on a copy of a slice from a DataFrame.\n",
            "Try using .loc[row_indexer,col_indexer] = value instead\n",
            "\n",
            "See the caveats in the documentation: https://pandas.pydata.org/pandas-docs/stable/user_guide/indexing.html#returning-a-view-versus-a-copy\n",
            "  df_2010[\"Popularity\"] = np.where(df_2010[\"Popularity\"] > 70, 1, 0)\n"
          ]
        }
      ]
    },
    {
      "cell_type": "code",
      "source": [
        "scaler = MinMaxScaler()\n",
        "minmax_df = scaler.fit_transform(X)\n",
        "X = pd.DataFrame(minmax_df)\n",
        "\n",
        "param_grid = { \n",
        "    'n_estimators': [20, 50, 100, 500, 700],\n",
        "    'max_features': ['auto', 'sqrt', 'log2']\n",
        "}\n",
        "rfc = RandomForestClassifier(n_jobs=-1,max_features= 'sqrt' ,n_estimators=50, oob_score = True) \n",
        "CV_rfc = GridSearchCV(estimator=rfc, param_grid=param_grid, cv= 5)\n",
        "CV_rfc.fit(X, Y)\n",
        "CV_rfc.best_params_"
      ],
      "metadata": {
        "id": "f8WEniY2pt0m",
        "colab": {
          "base_uri": "https://localhost:8080/"
        },
        "outputId": "43ae536c-7d80-40de-cd53-5a2e05f43514"
      },
      "execution_count": 51,
      "outputs": [
        {
          "output_type": "execute_result",
          "data": {
            "text/plain": [
              "{'max_features': 'auto', 'n_estimators': 20}"
            ]
          },
          "metadata": {},
          "execution_count": 51
        }
      ]
    },
    {
      "cell_type": "code",
      "source": [
        "# Random Forest Classifier trained with best parameters from hyperparameters tuning\n",
        "\n",
        "df = pd.read_csv('spotify.csv')\n",
        "df = PreProcess(df)\n",
        "\n",
        "df[\"Popularity\"] = np.where(df[\"Popularity\"] > 70, 1, 0)\n",
        "\n",
        "X = df.loc[:, ['BPM', 'Energy', 'Loudness']]\n",
        "Y = df.loc[:, 'Popularity']\n",
        "\n",
        "X_train, X_test, Y_train, Y_test = SplitDataset(X, Y)\n",
        "Norm_X_train, Norm_X_test = Normalize(X_train, X_test)\n",
        "\n",
        "rf_model = RandomForestClassifier(n_jobs=-1, max_features= 'log2', n_estimators=20)\n",
        "rf_model.fit(Norm_X_train, Y_train)\n",
        "y_pred = rf_model.predict(Norm_X_test)\n",
        "rf_model.score(Norm_X_test, Y_test)"
      ],
      "metadata": {
        "id": "mLPJBFQPnt30",
        "colab": {
          "base_uri": "https://localhost:8080/"
        },
        "outputId": "5e7870d9-7a67-4e3f-8894-146f9d997858"
      },
      "execution_count": 52,
      "outputs": [
        {
          "output_type": "execute_result",
          "data": {
            "text/plain": [
              "0.4900662251655629"
            ]
          },
          "metadata": {},
          "execution_count": 52
        }
      ]
    },
    {
      "cell_type": "markdown",
      "source": [
        "PCA Analysis for 3 bin division (Additional testing)"
      ],
      "metadata": {
        "id": "hmyq7NJAgUIc"
      }
    },
    {
      "cell_type": "code",
      "source": [
        "df = pd.read_csv('spotify.csv')\n",
        "df = PreProcess(df)\n",
        "\n",
        "df[\"Popularity\"] = pd.cut(x=df['Popularity'], bins = [-1, 50, 75, 99], labels =[0, 1, 2])\n",
        "print(f'Popularity Count: {df[\"Popularity\"].value_counts()}')\n",
        "\n",
        "X = df.iloc[:,3:-1]\n",
        "Y = df.loc[:, 'Popularity']\n",
        "X = ConvertYear(X)\n",
        "\n",
        "scaler = MinMaxScaler()\n",
        "minmax_df = scaler.fit_transform(X)\n",
        "X = pd.DataFrame(minmax_df)\n",
        "\n",
        "# X_train, X_test, Y_train, Y_test = SplitDataset(X, Y)\n",
        "# Norm_X_train, Norm_X_test = Normalize(X_train, X_test)"
      ],
      "metadata": {
        "id": "Z9O5KRbbgUUh",
        "colab": {
          "base_uri": "https://localhost:8080/"
        },
        "outputId": "cbca2260-46ae-47cf-cebe-88b8d0c058a0"
      },
      "execution_count": 53,
      "outputs": [
        {
          "output_type": "stream",
          "name": "stdout",
          "text": [
            "Popularity Count: 1    362\n",
            "2    171\n",
            "0     70\n",
            "Name: Popularity, dtype: int64\n"
          ]
        },
        {
          "output_type": "stream",
          "name": "stderr",
          "text": [
            "/usr/local/lib/python3.8/dist-packages/sklearn/utils/validation.py:1688: FutureWarning: Feature names only support names that are all strings. Got feature names with dtypes: ['int', 'str']. An error will be raised in 1.2.\n",
            "  warnings.warn(\n",
            "/usr/local/lib/python3.8/dist-packages/sklearn/utils/validation.py:1688: FutureWarning: Feature names only support names that are all strings. Got feature names with dtypes: ['int', 'str']. An error will be raised in 1.2.\n",
            "  warnings.warn(\n"
          ]
        }
      ]
    },
    {
      "cell_type": "code",
      "source": [
        "from sklearn.decomposition import PCA\n",
        "pca = PCA(n_components = 4)\n",
        "pca.fit(X)\n",
        "X_PCA = pca.transform(X)\n",
        "X_PCA.shape"
      ],
      "metadata": {
        "id": "FVIPcMf0gUeK",
        "colab": {
          "base_uri": "https://localhost:8080/"
        },
        "outputId": "9b6e0b90-278e-4e46-a7bf-9832aeea794d"
      },
      "execution_count": 54,
      "outputs": [
        {
          "output_type": "execute_result",
          "data": {
            "text/plain": [
              "(603, 4)"
            ]
          },
          "metadata": {},
          "execution_count": 54
        }
      ]
    },
    {
      "cell_type": "code",
      "source": [
        "X = pd.DataFrame(minmax_df)\n",
        "param_grid = { \n",
        "    'n_estimators': [20, 50, 100, 500, 700],\n",
        "    'max_features': ['auto', 'sqrt', 'log2']\n",
        "}\n",
        "rfc = RandomForestClassifier(n_jobs=-1,max_features= 'sqrt' ,n_estimators=50, oob_score = True) \n",
        "CV_rfc = GridSearchCV(estimator=rfc, param_grid=param_grid, cv= 5)\n",
        "CV_rfc.fit(X, Y)\n",
        "CV_rfc.best_params_"
      ],
      "metadata": {
        "id": "vbJ7dUywgUnC",
        "colab": {
          "base_uri": "https://localhost:8080/"
        },
        "outputId": "6848ad64-1c96-4e5a-a101-e651d32898d7"
      },
      "execution_count": 55,
      "outputs": [
        {
          "output_type": "stream",
          "name": "stderr",
          "text": [
            "/usr/local/lib/python3.8/dist-packages/sklearn/ensemble/_forest.py:560: UserWarning: Some inputs do not have OOB scores. This probably means too few trees were used to compute any reliable OOB estimates.\n",
            "  warn(\n",
            "/usr/local/lib/python3.8/dist-packages/sklearn/ensemble/_forest.py:560: UserWarning: Some inputs do not have OOB scores. This probably means too few trees were used to compute any reliable OOB estimates.\n",
            "  warn(\n"
          ]
        },
        {
          "output_type": "execute_result",
          "data": {
            "text/plain": [
              "{'max_features': 'log2', 'n_estimators': 20}"
            ]
          },
          "metadata": {},
          "execution_count": 55
        }
      ]
    },
    {
      "cell_type": "code",
      "source": [
        "X_train, X_test, Y_train, Y_test = SplitDataset(X_PCA, Y)\n",
        "rf_model = RandomForestClassifier(n_jobs=-1, max_features= 'auto', n_estimators=20)\n",
        "rf_model.fit(X_train, Y_train)\n",
        "y_pred = rf_model.predict(X_test)\n",
        "print(rf_model.score(X_test, Y_test))\n",
        "print(accuracy_score(Y_test, y_pred))"
      ],
      "metadata": {
        "id": "ySBhJeMah9Ng",
        "colab": {
          "base_uri": "https://localhost:8080/"
        },
        "outputId": "c1715cfd-cb7e-4170-a917-2ad4c22d3bbb"
      },
      "execution_count": 56,
      "outputs": [
        {
          "output_type": "stream",
          "name": "stdout",
          "text": [
            "0.5099337748344371\n",
            "0.5099337748344371\n"
          ]
        }
      ]
    },
    {
      "cell_type": "code",
      "source": [
        "cm = confusion_matrix(Y_test, y_pred)\n",
        "print(f'Confusion matrix:\\n{cm}')\n",
        "print(f'Classification Report:\\n{classification_report(Y_test, y_pred)}')"
      ],
      "metadata": {
        "id": "r4pyY6tngUxA",
        "colab": {
          "base_uri": "https://localhost:8080/"
        },
        "outputId": "5deb3690-1d85-465b-ee32-0a67f5a1fd8e"
      },
      "execution_count": 57,
      "outputs": [
        {
          "output_type": "stream",
          "name": "stdout",
          "text": [
            "Confusion matrix:\n",
            "[[ 3 15  2]\n",
            " [ 3 66 18]\n",
            " [ 0 36  8]]\n",
            "Classification Report:\n",
            "              precision    recall  f1-score   support\n",
            "\n",
            "           0       0.50      0.15      0.23        20\n",
            "           1       0.56      0.76      0.65        87\n",
            "           2       0.29      0.18      0.22        44\n",
            "\n",
            "    accuracy                           0.51       151\n",
            "   macro avg       0.45      0.36      0.37       151\n",
            "weighted avg       0.47      0.51      0.47       151\n",
            "\n"
          ]
        }
      ]
    }
  ],
  "metadata": {
    "colab": {
      "provenance": []
    },
    "kernelspec": {
      "display_name": "Python 3",
      "name": "python3"
    },
    "language_info": {
      "name": "python"
    }
  },
  "nbformat": 4,
  "nbformat_minor": 0
}